{
 "cells": [
  {
   "cell_type": "code",
   "execution_count": null,
   "metadata": {},
   "outputs": [],
   "source": [
    "from typing import *\n",
    "\n",
    "import numpy as np\n",
    "import matplotlib.pyplot as plt\n",
    "import torch\n",
    "\n",
    "from tqdm import tqdm\n",
    "from xai.genome import Genome\n",
    "from xai.bytes import GigaBytes\n",
    "from xai.policy import Policy\n",
    "from xai.asteroids import Asteroids\n",
    "from xai.stream import Stream"
   ]
  },
  {
   "cell_type": "code",
   "execution_count": null,
   "metadata": {},
   "outputs": [],
   "source": [
    "import random\n",
    "\n",
    "random.normalvariate(sigma=-1), random.normalvariate(sigma=1)\n",
    "torch.cuda.empty_cache()"
   ]
  },
  {
   "cell_type": "code",
   "execution_count": null,
   "metadata": {},
   "outputs": [],
   "source": [
    "genome = Genome(translate=True, rotate=True, volatility=1.0)\n",
    "\n",
    "population = genome.populate(\n",
    "    population_size=5,\n",
    "    use_ram_genomes=False,\n",
    "    use_ram_observations=True,\n",
    "    max_memory=GigaBytes(5.0),\n",
    "    max_observation_memory=GigaBytes(20.0),\n",
    "    subprocesses_observation_memory_size=GigaBytes(5.0),\n",
    "    verbose=True\n",
    ")"
   ]
  },
  {
   "cell_type": "code",
   "execution_count": null,
   "metadata": {},
   "outputs": [],
   "source": [
    "population.evolve(\n",
    "    generations=50,\n",
    "    survivors_cnt=0,\n",
    "    elites_cnt=0,\n",
    "    roulettes_cnt=0,\n",
    "    random_cnt=0,\n",
    "    rank_cnt=15,\n",
    "    checkpoints_directory=\"Test\",\n",
    "    number_of_processes=4\n",
    ")"
   ]
  }
 ],
 "metadata": {
  "kernelspec": {
   "display_name": "Python 3 (ipykernel)",
   "language": "python",
   "name": "python3"
  },
  "language_info": {
   "codemirror_mode": {
    "name": "ipython",
    "version": 3
   },
   "file_extension": ".py",
   "mimetype": "text/x-python",
   "name": "python",
   "nbconvert_exporter": "python",
   "pygments_lexer": "ipython3",
   "version": "3.11.8"
  }
 },
 "nbformat": 4,
 "nbformat_minor": 2
}
