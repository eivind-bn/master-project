{
 "cells": [
  {
   "cell_type": "code",
   "execution_count": null,
   "metadata": {},
   "outputs": [],
   "source": [
    "from xai.genome import Genome\n",
    "from xai.bytes import GigaBytes\n",
    "from xai.policy import Policy\n",
    "from xai.asteroids import Asteroids\n",
    "import matplotlib.pyplot as plt\n",
    "import torch"
   ]
  },
  {
   "cell_type": "code",
   "execution_count": null,
   "metadata": {},
   "outputs": [],
   "source": [
    "genome = Genome(translate=True, rotate=True, volatility=1.0)\n",
    "\n",
    "population = genome.populate(\n",
    "    population_size=25,\n",
    "    max_memory=GigaBytes(5.0),\n",
    "    verbose=True\n",
    ")"
   ]
  },
  {
   "cell_type": "code",
   "execution_count": null,
   "metadata": {},
   "outputs": [],
   "source": [
    "population.evolve(\n",
    "    generations=10,\n",
    "    survivors_cnt=1,\n",
    "    elites_cnt=0,\n",
    "    roulettes_cnt=0,\n",
    "    random_cnt=0,\n",
    "    rank_cnt=10,\n",
    "    checkpoints_directory=\"Test\",\n",
    "    number_of_processes=4\n",
    ")"
   ]
  },
  {
   "cell_type": "code",
   "execution_count": null,
   "metadata": {},
   "outputs": [],
   "source": [
    "population._observations"
   ]
  },
  {
   "cell_type": "code",
   "execution_count": null,
   "metadata": {},
   "outputs": [],
   "source": [
    "torch.cuda.empty_cache()"
   ]
  },
  {
   "cell_type": "code",
   "execution_count": null,
   "metadata": {},
   "outputs": [],
   "source": [
    "hidden_dims = [2**10,2**7]\n",
    "big_encoder = Policy.new(Asteroids.observation_shape, 100, hidden_layers=hidden_dims)\n",
    "big_decoder = Policy.new(100, Asteroids.observation_shape ,hidden_layers=hidden_dims[::-1])\n",
    "big_autoencoder = big_encoder + big_decoder\n",
    "big_autoencoder"
   ]
  },
  {
   "cell_type": "code",
   "execution_count": null,
   "metadata": {},
   "outputs": [],
   "source": [
    "tensor = torch.stack(population._observations.randoms(False).take(3000).map(lambda obs: obs.translated().rotated().tensor(normalize=True, device=\"cuda:0\")).tuple()).cuda()\n"
   ]
  },
  {
   "cell_type": "code",
   "execution_count": null,
   "metadata": {},
   "outputs": [],
   "source": [
    "del tensor"
   ]
  },
  {
   "cell_type": "code",
   "execution_count": null,
   "metadata": {},
   "outputs": [],
   "source": [
    "f = torch.nn.Sequential(\n",
    "    torch.nn.Conv2d(in_channels=3, out_channels=32, kernel_size=(3,3), stride=(2,2)),\n",
    "    torch.nn.Conv2d(in_channels=32, out_channels=64, kernel_size=(2,2), stride=(1,1))\n",
    ")\n",
    "\n",
    "\n",
    "big_autoencoder.adam().fit(\n",
    "    X=tensor,\n",
    "    Y=tensor,\n",
    "    epochs=5000,\n",
    "    batch_size=256,\n",
    "    loss_criterion=\"MSELoss\",\n",
    "    verbose=True\n",
    ").plot_loss()"
   ]
  },
  {
   "cell_type": "code",
   "execution_count": null,
   "metadata": {},
   "outputs": [],
   "source": [
    "big_autoencoder.predict(tensor[0]).tensor(True).cpu().max()"
   ]
  },
  {
   "cell_type": "code",
   "execution_count": null,
   "metadata": {},
   "outputs": [],
   "source": [
    "\n",
    "idx = 2649\n",
    "\n",
    "\n",
    "\n",
    "plt.imshow(torch.hstack([tensor[idx].cpu(), big_autoencoder.predict(tensor[idx]).tensor(True).cpu()]))"
   ]
  },
  {
   "cell_type": "code",
   "execution_count": null,
   "metadata": {},
   "outputs": [],
   "source": []
  }
 ],
 "metadata": {
  "kernelspec": {
   "display_name": ".venv",
   "language": "python",
   "name": "python3"
  },
  "language_info": {
   "codemirror_mode": {
    "name": "ipython",
    "version": 3
   },
   "file_extension": ".py",
   "mimetype": "text/x-python",
   "name": "python",
   "nbconvert_exporter": "python",
   "pygments_lexer": "ipython3",
   "version": "3.11.5"
  }
 },
 "nbformat": 4,
 "nbformat_minor": 2
}
