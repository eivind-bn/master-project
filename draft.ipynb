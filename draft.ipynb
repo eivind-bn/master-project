{
 "cells": [
  {
   "cell_type": "code",
   "execution_count": null,
   "metadata": {},
   "outputs": [],
   "source": []
  },
  {
   "cell_type": "code",
   "execution_count": null,
   "metadata": {},
   "outputs": [],
   "source": [
    "l.clear()"
   ]
  },
  {
   "cell_type": "code",
   "execution_count": null,
   "metadata": {},
   "outputs": [],
   "source": [
    "l.remove(list(range(80)))"
   ]
  },
  {
   "cell_type": "code",
   "execution_count": 1,
   "metadata": {},
   "outputs": [],
   "source": [
    "from xai.buffer import ArrayBuffer\n",
    "import numpy as np\n",
    "from xai.bytes import GigaBytes\n",
    "\n",
    "np.dtype(\"float16\").itemsize\n",
    "\n",
    "replay_buffer = ArrayBuffer(\n",
    "    capacity=GigaBytes(1.0),\n",
    "    schema={\n",
    "        \"state\": ((210,160,3), \"float32\"),\n",
    "        \"action\": (5, \"int16\"),\n",
    "        \"reward\": (1, \"float32\"),\n",
    "        \"next_state\": ((210,160,3), \"float32\"),\n",
    "        \"done\": (1, \"float32\")\n",
    "    }\n",
    ")"
   ]
  },
  {
   "cell_type": "code",
   "execution_count": 36,
   "metadata": {},
   "outputs": [],
   "source": [
    "replay_buffer.append({\n",
    "    \"state\": np.full((500,210,160,3), 1),\n",
    "    \"action\": np.full((500,5,), 2),\n",
    "    \"reward\": np.full((500,1,), 3),\n",
    "    \"next_state\": np.full((500,210,160,3), 4),\n",
    "    \"done\": np.full((500,1,), 5)\n",
    "})"
   ]
  },
  {
   "cell_type": "code",
   "execution_count": 37,
   "metadata": {},
   "outputs": [
    {
     "data": {
      "text/plain": [
       "ArrayBuffer(dim={'state': (210, 160, 3), 'action': (5,), 'reward': (1,), 'next_state': (210, 160, 3), 'done': (1,)}, rows=1240/1240, memsize=1.00/1.00GB)"
      ]
     },
     "execution_count": 37,
     "metadata": {},
     "output_type": "execute_result"
    }
   ],
   "source": [
    "replay_buffer"
   ]
  },
  {
   "cell_type": "code",
   "execution_count": 38,
   "metadata": {},
   "outputs": [],
   "source": [
    "replay_buffer.save(\"./buffer\")"
   ]
  },
  {
   "cell_type": "code",
   "execution_count": 13,
   "metadata": {},
   "outputs": [],
   "source": [
    "l = ArrayBuffer.load(\"./buffer\")"
   ]
  },
  {
   "cell_type": "code",
   "execution_count": 14,
   "metadata": {},
   "outputs": [
    {
     "data": {
      "text/plain": [
       "ArrayBuffer(dim={'Foo': (2,)}, rows=1/1, memsize=0.00/0.00GB)"
      ]
     },
     "execution_count": 14,
     "metadata": {},
     "output_type": "execute_result"
    }
   ],
   "source": [
    "l"
   ]
  },
  {
   "cell_type": "code",
   "execution_count": 66,
   "metadata": {},
   "outputs": [
    {
     "data": {
      "text/plain": [
       "ArrayBuffer(dim={'Foo': (5, 5)}, rows=200/200, memsize=0.00/0.00GB)"
      ]
     },
     "execution_count": 66,
     "metadata": {},
     "output_type": "execute_result"
    }
   ],
   "source": [
    "b"
   ]
  },
  {
   "cell_type": "code",
   "execution_count": null,
   "metadata": {},
   "outputs": [],
   "source": [
    "np.full((210,160,3), 5).size"
   ]
  },
  {
   "cell_type": "code",
   "execution_count": null,
   "metadata": {},
   "outputs": [],
   "source": []
  }
 ],
 "metadata": {
  "kernelspec": {
   "display_name": ".venv",
   "language": "python",
   "name": "python3"
  },
  "language_info": {
   "codemirror_mode": {
    "name": "ipython",
    "version": 3
   },
   "file_extension": ".py",
   "mimetype": "text/x-python",
   "name": "python",
   "nbconvert_exporter": "python",
   "pygments_lexer": "ipython3",
   "version": "3.11.7"
  }
 },
 "nbformat": 4,
 "nbformat_minor": 2
}
