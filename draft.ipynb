{
 "cells": [
  {
   "cell_type": "code",
   "execution_count": null,
   "metadata": {},
   "outputs": [],
   "source": [
    "from xai.record import Recorder\n",
    "\n",
    "with Recorder(\"output.mp4\") as recorder:\n",
    "    for i in range(60*5):\n",
    "        recorder(np.full((1080,1920,3), 128, dtype=np.uint8))"
   ]
  },
  {
   "cell_type": "code",
   "execution_count": null,
   "metadata": {},
   "outputs": [],
   "source": [
    "from xai.policy import Policy\n",
    "\n",
    "Policy(100,10)"
   ]
  },
  {
   "cell_type": "code",
   "execution_count": null,
   "metadata": {},
   "outputs": [],
   "source": []
  },
  {
   "cell_type": "code",
   "execution_count": 1,
   "metadata": {},
   "outputs": [
    {
     "data": {
      "text/plain": [
       "(tensor([[-0.2220, -0.2999,  0.4209,  0.0703, -0.1009,  0.3511, -0.2774, -0.0972,\n",
       "          -0.1127,  0.2718],\n",
       "         [-0.2220, -0.2999,  0.4209,  0.0703, -0.1009,  0.3511, -0.2774, -0.0972,\n",
       "          -0.1127,  0.2718]], device='cuda:0', grad_fn=<AddmmBackward0>),\n",
       " tensor([2, 2], device='cuda:0'),\n",
       " (1, 1))"
      ]
     },
     "execution_count": 1,
     "metadata": {},
     "output_type": "execute_result"
    }
   ],
   "source": [
    "from xai.policy import Policy\n",
    "import torch\n",
    "\n",
    "p = Policy(3,10)\n",
    "y = p(torch.tensor([\n",
    "    [2.0,3.0,4.0],\n",
    "    [2.0,3.0,4.0]\n",
    "    ]))\n",
    "y, y.greedy_max(), y.greedy_min().tuple(),"
   ]
  },
  {
   "cell_type": "code",
   "execution_count": 4,
   "metadata": {},
   "outputs": [
    {
     "data": {
      "image/png": "[encoded data removed]",
      "text/plain": [
       "<Figure size 640x480 with 1 Axes>"
      ]
     },
     "metadata": {},
     "output_type": "display_data"
    }
   ],
   "source": [
    "from xai.asteroids import Asteroids, Action\n",
    "from PIL import Image\n",
    "env = Asteroids()\n",
    "\n",
    "env.step(Action.NOOP).observation.show(\"gray\")"
   ]
  },
  {
   "cell_type": "code",
   "execution_count": 1,
   "metadata": {},
   "outputs": [],
   "source": [
    "from ale_py import ALEInterface\n",
    "from ale_py.roms import Asteroids\n",
    "from ale_py import LoggerMode\n",
    "\n",
    "import ale_py\n",
    "\n",
    "ale_py.ALEInterface.setLoggerMode(LoggerMode.Error)\n",
    "emulator: ALEInterface = ALEInterface()\n",
    "emulator.loadROM(Asteroids)"
   ]
  },
  {
   "cell_type": "code",
   "execution_count": 5,
   "metadata": {},
   "outputs": [],
   "source": []
  },
  {
   "cell_type": "code",
   "execution_count": null,
   "metadata": {},
   "outputs": [],
   "source": [
    "x = torch.tensor([[1.0,1.0],\n",
    "                  [1.0,1.0]], requires_grad=True)\n",
    "\n",
    "y = torch.tensor([[2.0,2.0],\n",
    "                  [2.0,2.0]], requires_grad=True)\n",
    "\n",
    "\n",
    "\n",
    "z = (x*y)\n",
    "\n",
    "torch.autograd.grad(outputs=z[:,0], inputs=x, retain_graph=True)"
   ]
  },
  {
   "cell_type": "code",
   "execution_count": null,
   "metadata": {},
   "outputs": [],
   "source": [
    "choices = z[:,:]\n",
    "torch.autograd.grad(\n",
    "    outputs=choices,\n",
    "    inputs=x,\n",
    "    grad_outputs=torch.ones_like(choices),\n",
    "    retain_graph=True\n",
    ")"
   ]
  },
  {
   "cell_type": "code",
   "execution_count": null,
   "metadata": {},
   "outputs": [],
   "source": [
    "torch.autograd.grad(outputs=[z[0,0], z[1,1]], inputs=[x,y])"
   ]
  },
  {
   "cell_type": "code",
   "execution_count": null,
   "metadata": {},
   "outputs": [],
   "source": [
    "torch.tensor([1.0]).dim()"
   ]
  },
  {
   "cell_type": "code",
   "execution_count": null,
   "metadata": {},
   "outputs": [],
   "source": [
    "y.greedy_max()"
   ]
  },
  {
   "cell_type": "code",
   "execution_count": null,
   "metadata": {},
   "outputs": [],
   "source": []
  }
 ],
 "metadata": {
  "kernelspec": {
   "display_name": ".venv",
   "language": "python",
   "name": "python3"
  },
  "language_info": {
   "codemirror_mode": {
    "name": "ipython",
    "version": 3
   },
   "file_extension": ".py",
   "mimetype": "text/x-python",
   "name": "python",
   "nbconvert_exporter": "python",
   "pygments_lexer": "ipython3",
   "version": "3.11.5"
  }
 },
 "nbformat": 4,
 "nbformat_minor": 2
}
