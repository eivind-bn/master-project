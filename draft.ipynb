{
 "cells": [
  {
   "cell_type": "code",
   "execution_count": 168,
   "metadata": {},
   "outputs": [],
   "source": [
    "import torch"
   ]
  },
  {
   "cell_type": "code",
   "execution_count": 169,
   "metadata": {},
   "outputs": [],
   "source": [
    "f = torch.nn.Sequential(\n",
    "    torch.nn.Linear(1,5),\n",
    ")\n",
    "\n",
    "g = torch.nn.Sequential(\n",
    "    torch.nn.Linear(1,5),\n",
    ")\n",
    "\n",
    "h = torch.nn.Sequential(\n",
    "    torch.nn.Linear(1,5),\n",
    ")\n",
    "\n",
    "x = torch.tensor([0.0])"
   ]
  },
  {
   "cell_type": "code",
   "execution_count": 170,
   "metadata": {},
   "outputs": [],
   "source": [
    "yf = f(x)"
   ]
  },
  {
   "cell_type": "code",
   "execution_count": 171,
   "metadata": {},
   "outputs": [],
   "source": [
    "yg = g(x)"
   ]
  },
  {
   "cell_type": "code",
   "execution_count": 172,
   "metadata": {},
   "outputs": [],
   "source": [
    "for i,(pf,pg,ph) in enumerate(zip(f.parameters(), g.parameters(), h.parameters()), start=1):\n",
    "    with torch.no_grad():\n",
    "        ph[:] = .5*pf + .5*pg"
   ]
  },
  {
   "cell_type": "code",
   "execution_count": 173,
   "metadata": {},
   "outputs": [
    {
     "data": {
      "text/plain": [
       "(tensor([ 0.4078, -0.4967,  0.2647,  0.3822,  0.0470], grad_fn=<AddBackward0>),\n",
       " tensor([ 0.9509, -0.9288, -0.7978, -0.1891,  0.0025], grad_fn=<AddBackward0>),\n",
       " tensor([ 0.6793, -0.7127, -0.2666,  0.0966,  0.0248], grad_fn=<AddBackward0>))"
      ]
     },
     "execution_count": 173,
     "metadata": {},
     "output_type": "execute_result"
    }
   ],
   "source": [
    "yh = h(x)\n",
    "yf, yg, yh"
   ]
  },
  {
   "cell_type": "code",
   "execution_count": null,
   "metadata": {},
   "outputs": [],
   "source": []
  }
 ],
 "metadata": {
  "kernelspec": {
   "display_name": "Python 3",
   "language": "python",
   "name": "python3"
  },
  "language_info": {
   "codemirror_mode": {
    "name": "ipython",
    "version": 3
   },
   "file_extension": ".py",
   "mimetype": "text/x-python",
   "name": "python",
   "nbconvert_exporter": "python",
   "pygments_lexer": "ipython3",
   "version": "3.11.7"
  }
 },
 "nbformat": 4,
 "nbformat_minor": 2
}
