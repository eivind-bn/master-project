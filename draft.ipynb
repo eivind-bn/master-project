{
 "cells": [
  {
   "cell_type": "code",
   "execution_count": null,
   "metadata": {},
   "outputs": [],
   "source": [
    "import xai\n",
    "import torch\n",
    "import shap\n",
    "import numpy as np\n",
    "np.set_printoptions(precision=4, suppress=True)"
   ]
  },
  {
   "cell_type": "code",
   "execution_count": null,
   "metadata": {},
   "outputs": [],
   "source": [
    "X,Y = shap.datasets.california()\n",
    "N = len(X)\n",
    "X = X.to_numpy(np.float32)\n",
    "Y = Y.reshape((-1,1)).astype(np.float32)\n",
    "indices = torch.randperm(N)\n",
    "train_portion = int(N*0.8)\n",
    "\n",
    "X_train, Y_train = X[indices[:train_portion]], Y[indices[:train_portion]]\n",
    "X_val, Y_val = X[indices[train_portion:]], Y[indices[train_portion:]]"
   ]
  },
  {
   "cell_type": "code",
   "execution_count": null,
   "metadata": {},
   "outputs": [],
   "source": [
    "n1 = xai.Network.dense(\n",
    "    input_dim=(8,),\n",
    "    output_dim=(5,)\n",
    ")\n",
    "\n",
    "\n",
    "n2 = xai.Network.dense(\n",
    "    input_dim=(5,),\n",
    "    output_dim=(1,)\n",
    ")\n",
    "\n",
    "n3 = n1 + n2\n",
    "\n",
    "n3.adam().fit(\n",
    "    X_train=X_train,\n",
    "    Y_train=Y_train,\n",
    "    X_val=X_val,\n",
    "    Y_val=Y_val,\n",
    "    batch_size=256,\n",
    "    epochs=10_000,\n",
    "    loss_criterion=\"MSELoss\",\n",
    "    early_stop_count=1000,\n",
    "    verbose=True,\n",
    "    info=\"Train california housing (both networks)\"\n",
    ").plot_loss()"
   ]
  },
  {
   "cell_type": "code",
   "execution_count": null,
   "metadata": {},
   "outputs": [],
   "source": [
    "n1_explainer = n1.explainer(\"exact\", X_val)\n",
    "n2_explainer = n2.explainer(\"exact\", n1(X_val).output())\n",
    "n3_explainer = n3.explainer(\"exact\", X_val)"
   ]
  },
  {
   "cell_type": "code",
   "execution_count": null,
   "metadata": {},
   "outputs": [],
   "source": [
    "x1 = X_val[570]\n",
    "x2 = n1(x1).output()\n",
    "x3 = x1"
   ]
  },
  {
   "cell_type": "code",
   "execution_count": null,
   "metadata": {},
   "outputs": [],
   "source": [
    "def norm(array):\n",
    "    return array/np.max(np.abs(array))"
   ]
  },
  {
   "cell_type": "code",
   "execution_count": null,
   "metadata": {},
   "outputs": [],
   "source": [
    "x1_explanation = n1_explainer.explain(x1)[0]\n",
    "x1_shap = x1_explanation.shap_values\n",
    "x1_base = x1_explanation.base_values\n",
    "x1_shap, x1_base"
   ]
  },
  {
   "cell_type": "code",
   "execution_count": null,
   "metadata": {},
   "outputs": [],
   "source": [
    "x2_explanation = n2_explainer.explain(x2)[0]\n",
    "x2_shap = x2_explanation.shap_values\n",
    "x2_base = x2_explanation.base_values\n",
    "x2_shap, x2_base"
   ]
  },
  {
   "cell_type": "code",
   "execution_count": null,
   "metadata": {},
   "outputs": [],
   "source": [
    "x3_explanation = n3_explainer.explain(x3)[0]\n",
    "x3_shap = x3_explanation.shap_values\n",
    "x3_base = x3_explanation.base_values\n",
    "x3_shap, x3_base"
   ]
  },
  {
   "cell_type": "code",
   "execution_count": null,
   "metadata": {},
   "outputs": [],
   "source": [
    "x3_shap.sum() + x3_base"
   ]
  },
  {
   "cell_type": "code",
   "execution_count": null,
   "metadata": {},
   "outputs": [],
   "source": [
    "combined_shap = np.zeros((8,1), dtype=np.float32)\n",
    "# We want 10 shap values for every 784 pixel, i.e. of shape: (10, 784).\n",
    "\n",
    "# sum(s1) = (y1 - E(x))\n",
    "# sum(s2) = (y2 - E(y1i))\n",
    "# sum(s3) = (y2 - E(y2i))\n",
    "\n",
    "# y1 = sum(s1) + E(y1i)\n",
    "# y2 = sum(s2) + E(y2i)\n",
    "# y2 = sum(s3) + E(y2i)\n",
    "\n",
    "for feature in range(8):\n",
    "    for latent in range(5):\n",
    "        x1_shap_norm = np.max(np.abs(x1_shap[feature]))\n",
    "        shap1 = x1_shap[feature,latent]\n",
    "        for cls in range(1):\n",
    "            shap2 = x2_shap[latent,cls]\n",
    "            x2_shap_norm = np.max(np.abs(x2_shap[latent]))\n",
    "            combined_shap[feature,cls] += (shap1/x1_shap_norm)*(shap2/x2_shap_norm)\n",
    "# Done!\n",
    "\n",
    "combined_shap"
   ]
  },
  {
   "cell_type": "code",
   "execution_count": null,
   "metadata": {},
   "outputs": [],
   "source": []
  }
 ],
 "metadata": {
  "kernelspec": {
   "display_name": ".venv",
   "language": "python",
   "name": "python3"
  },
  "language_info": {
   "codemirror_mode": {
    "name": "ipython",
    "version": 3
   },
   "file_extension": ".py",
   "mimetype": "text/x-python",
   "name": "python",
   "nbconvert_exporter": "python",
   "pygments_lexer": "ipython3",
   "version": "3.11.8"
  }
 },
 "nbformat": 4,
 "nbformat_minor": 2
}
