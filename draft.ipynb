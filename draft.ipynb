{
 "cells": [
  {
   "cell_type": "code",
   "execution_count": 1,
   "metadata": {},
   "outputs": [
    {
     "ename": "ModuleNotFoundError",
     "evalue": "No module named 'ale_py'",
     "output_type": "error",
     "traceback": [
      "\u001b[0;31m---------------------------------------------------------------------------\u001b[0m",
      "\u001b[0;31mModuleNotFoundError\u001b[0m                       Traceback (most recent call last)",
      "Cell \u001b[0;32mIn[1], line 2\u001b[0m\n\u001b[1;32m      1\u001b[0m \u001b[38;5;28;01mfrom\u001b[39;00m \u001b[38;5;21;01mtyping\u001b[39;00m \u001b[38;5;28;01mimport\u001b[39;00m \u001b[38;5;241m*\u001b[39m\n\u001b[0;32m----> 2\u001b[0m \u001b[38;5;28;01mfrom\u001b[39;00m \u001b[38;5;21;01male_py\u001b[39;00m \u001b[38;5;28;01mimport\u001b[39;00m ALEInterface\n\u001b[1;32m      3\u001b[0m \u001b[38;5;28;01mfrom\u001b[39;00m \u001b[38;5;21;01male_py\u001b[39;00m\u001b[38;5;21;01m.\u001b[39;00m\u001b[38;5;21;01mroms\u001b[39;00m \u001b[38;5;28;01mimport\u001b[39;00m Asteroids \u001b[38;5;28;01mas\u001b[39;00m ALE_Asteroids\n\u001b[1;32m      4\u001b[0m \u001b[38;5;28;01mfrom\u001b[39;00m \u001b[38;5;21;01mrandom\u001b[39;00m \u001b[38;5;28;01mimport\u001b[39;00m random\n",
      "\u001b[0;31mModuleNotFoundError\u001b[0m: No module named 'ale_py'"
     ]
    }
   ],
   "source": [
    "from typing import *\n",
    "from ale_py import ALEInterface\n",
    "from ale_py.roms import Asteroids as ALE_Asteroids\n",
    "from random import random\n",
    "\n",
    "import gymnasium as gym\n",
    "import cv2\n",
    "\n",
    "\n",
    "class Asteroids:\n",
    "\n",
    "    def __init__(self) -> None:\n",
    "        \n",
    "        self._ale: ALEInterface = ALEInterface().loadROM(ALE_Asteroids)\n",
    "        \n",
    "        height, width = self._ale.getScreenDims()\n",
    "        observation_shape = (height, width, 3)\n",
    "        self.reset()\n",
    "\n",
    "    def step(self, \n",
    "             action:        Action,\n",
    "             stochastic:    bool = False,\n",
    "             steps:         int = 1) -> AsteroidsReward:\n",
    "        \n",
    "        native_rewards: List[int|float] = []\n",
    "        images: List[AsteroidsObservation] = []\n",
    "\n",
    "        for _ in range(steps):\n",
    "            reward = 0\n",
    "            if stochastic:\n",
    "                if random() < 0.5:\n",
    "                    reward += self._step_spaceship(AsteroidsAction.NOOP)\n",
    "                else:\n",
    "                    reward += self._step_asteroids(AsteroidsAction.NOOP)\n",
    "\n",
    "            reward += self._step_spaceship(action)\n",
    "            reward += self._step_asteroids(action)\n",
    "\n",
    "            native_rewards.append(reward)\n",
    "            images.append(AsteroidsObservation(\n",
    "                spaceship=self.spaceship,\n",
    "                asteroids=self.asteroids,\n",
    "                spaceship_angle=self.get_angle()\n",
    "            ))\n",
    "        \n",
    "        return AsteroidsReward(\n",
    "            values=native_rewards,\n",
    "            observations=images,\n",
    "            actions=[action]*steps\n",
    "        )\n",
    "\n",
    "    def render(self) -> AsteroidsObservation:\n",
    "        return AsteroidsObservation(\n",
    "            spaceship=self.spaceship, \n",
    "            asteroids=self.asteroids,\n",
    "            spaceship_angle=self.get_angle()\n",
    "            )\n",
    "    \n",
    "    def _step_asteroids(self, action: AsteroidsAction) -> int:\n",
    "        flags = int(self._ale.getRAM()[57])\n",
    "        self._ale.setRAM(57,~1&flags)\n",
    "        reward = self._ale.act(action.value)\n",
    "        self.asteroids = self._ale.getScreenRGB()\n",
    "        return reward\n",
    "    \n",
    "    def _step_spaceship(self, action: AsteroidsAction) -> int:\n",
    "        flags = int(self._ale.getRAM()[57])\n",
    "        self._ale.setRAM(57,1|flags)\n",
    "        reward = self._ale.act(action.value)\n",
    "        self.spaceship = self._ale.getScreenRGB()\n",
    "        return reward\n",
    "        \n",
    "    def running(self) -> bool:\n",
    "        return not self._ale.game_over()\n",
    "    \n",
    "    def lives(self) -> int:\n",
    "        return self._ale.lives()\n",
    "    \n",
    "    def get_angle(self) -> float:\n",
    "        angle_step = self._ale.getRAM()[60] & 0xf\n",
    "        return self._angle_steps_to_radians[angle_step]\n",
    "\n",
    "    def reset(self) -> None:\n",
    "        self._ale.reset_game()\n",
    "        self._angle_steps_to_radians = (\n",
    "            0.0, \n",
    "            0.23186466084938862, \n",
    "            0.5880026035475675, \n",
    "            0.9037239459029813, \n",
    "            1.5707963267948966, \n",
    "            2.256525837701183, \n",
    "            2.6909313275091598, \n",
    "            2.936197264400026, \n",
    "            3.141592653589793, \n",
    "            3.2834897081939567, \n",
    "            3.597664649939404, \n",
    "            4.023464592169828, \n",
    "            4.71238898038469, \n",
    "            5.365235611485464, \n",
    "            5.81953769817878, \n",
    "            6.120457932539206\n",
    "        )\n",
    "        assert (sum(self._angle_steps_to_radians) - 47.24187379318632) < 1e-4\n",
    "        self.step(AsteroidsAction.NOOP)\n",
    "    \n",
    "    def clone_state(self) -> ALEState:\n",
    "        return self._ale.cloneState()\n",
    "    \n",
    "    def restore_state(self, state: ALEState) -> None:\n",
    "        self._ale.restoreState(state)\n",
    "\n",
    "    def play(self,\n",
    "             fps:           int = 60,\n",
    "             scale:         float = 4.0,\n",
    "             translate:     bool = False,\n",
    "             rotate:        bool = False,\n",
    "             stochastic:    bool = False,\n",
    "             step_cb:       Callable[[AsteroidsObservation,AsteroidsReward],None] = lambda *_: None) -> None:\n",
    "        \n",
    "        title = \"Asteroids\"\n",
    "\n",
    "        def window_visible() -> bool:\n",
    "            return cv2.getWindowProperty(title, cv2.WND_PROP_VISIBLE) > 0\n",
    "        \n",
    "        def wait_key() -> str|None:\n",
    "            code = cv2.waitKeyEx(1000//fps)\n",
    "            if code > -1:\n",
    "                return chr(code)\n",
    "            else:\n",
    "                return None  \n",
    "\n",
    "        try:\n",
    "            cv2.namedWindow(title, cv2.WINDOW_NORMAL)\n",
    "\n",
    "            h,w,_ = self.observation_shape\n",
    "            cv2.resizeWindow(title, int(w*scale), int(h*scale))\n",
    "\n",
    "            while self.running() and window_visible():\n",
    "                \n",
    "                image = self.render()\n",
    "\n",
    "                if translate:\n",
    "                    image = image.translated()\n",
    "\n",
    "                if rotate:\n",
    "                    image = image.rotated()\n",
    "                \n",
    "                cv2.imshow(title, image.numpy()[:,:,::-1])\n",
    "                \n",
    "                key = wait_key()\n",
    "\n",
    "                match key:\n",
    "                    case \"q\":\n",
    "                        break\n",
    "                    case \"w\":\n",
    "                        step_cb(image, self.step(AsteroidsAction.UP, stochastic=stochastic))\n",
    "                    case \"a\":\n",
    "                        step_cb(image, self.step(AsteroidsAction.LEFT, stochastic=stochastic))\n",
    "                    case \"d\":\n",
    "                        step_cb(image, self.step(AsteroidsAction.RIGHT, stochastic=stochastic))\n",
    "                    case \" \":\n",
    "                        step_cb(image, self.step(AsteroidsAction.FIRE, stochastic=stochastic))\n",
    "                    case _:\n",
    "                        step_cb(image, self.step(AsteroidsAction.NOOP, stochastic=stochastic))\n",
    "\n",
    "        finally:\n",
    "            cv2.destroyWindow(title)\n"
   ]
  },
  {
   "cell_type": "code",
   "execution_count": 7,
   "metadata": {},
   "outputs": [
    {
     "name": "stderr",
     "output_type": "stream",
     "text": [
      "A.L.E: Arcade Learning Environment (version 0.8.1+53f58b7)\n",
      "[Powered by Stella]\n",
      "Game console created:\n",
      "  ROM file:  /home/eivind/master-project/.venv/lib/python3.11/site-packages/AutoROM/roms/asteroids.bin\n",
      "  Cart Name: Asteroids [p1]\n",
      "  Cart MD5:  ccbd36746ed4525821a8083b0d6d2c2c\n",
      "  Display Format:  AUTO-DETECT ==> NTSC\n",
      "  ROM Size:        8192\n",
      "  Bankswitch Type: AUTO-DETECT ==> F8\n",
      "\n",
      "Running ROM file...\n",
      "Random seed is 1704904266\n"
     ]
    },
    {
     "data": {
      "text/plain": [
       "<ale_py._ale_py.ALEInterface at 0x7fe178e4f6f0>"
      ]
     },
     "execution_count": 7,
     "metadata": {},
     "output_type": "execute_result"
    }
   ],
   "source": [
    "emulator = ALEInterface()\n",
    "emulator.loadROM(Asteroids)\n",
    "emulator"
   ]
  },
  {
   "cell_type": "code",
   "execution_count": null,
   "metadata": {},
   "outputs": [],
   "source": [
    "emulator."
   ]
  },
  {
   "cell_type": "code",
   "execution_count": 12,
   "metadata": {},
   "outputs": [
    {
     "data": {
      "text/plain": [
       "4"
      ]
     },
     "execution_count": 12,
     "metadata": {},
     "output_type": "execute_result"
    }
   ],
   "source": [
    "emulator.lives()"
   ]
  },
  {
   "cell_type": "code",
   "execution_count": null,
   "metadata": {},
   "outputs": [],
   "source": []
  }
 ],
 "metadata": {
  "kernelspec": {
   "display_name": "Python 3",
   "language": "python",
   "name": "python3"
  },
  "language_info": {
   "codemirror_mode": {
    "name": "ipython",
    "version": 3
   },
   "file_extension": ".py",
   "mimetype": "text/x-python",
   "name": "python",
   "nbconvert_exporter": "python",
   "pygments_lexer": "ipython3",
   "version": "3.11.5"
  }
 },
 "nbformat": 4,
 "nbformat_minor": 2
}
