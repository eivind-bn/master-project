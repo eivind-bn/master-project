{
 "cells": [
  {
   "cell_type": "code",
   "execution_count": null,
   "metadata": {},
   "outputs": [],
   "source": [
    "from xai.dqn import DQN\n",
    "     \n",
    "\n",
    "dqn = DQN(translate=True, rotate=True)     "
   ]
  },
  {
   "cell_type": "code",
   "execution_count": null,
   "metadata": {},
   "outputs": [],
   "source": [
    "from xai.policy import Policy\n",
    "import torch\n",
    "\n",
    "p = Policy.new(1,10)"
   ]
  },
  {
   "cell_type": "code",
   "execution_count": 102,
   "metadata": {},
   "outputs": [
    {
     "data": {
      "text/plain": [
       "tensor([-84.4875,  92.9097, -40.1360, 187.6923, -50.9625, -51.9338, -68.2660,\n",
       "         -7.5352, 116.5554,  -7.9359], grad_fn=<ViewBackward0>)"
      ]
     },
     "execution_count": 102,
     "metadata": {},
     "output_type": "execute_result"
    }
   ],
   "source": [
    "p.predict(torch.tensor([1.0]))"
   ]
  },
  {
   "cell_type": "code",
   "execution_count": 101,
   "metadata": {},
   "outputs": [],
   "source": [
    "p.mutate(1)"
   ]
  },
  {
   "cell_type": "code",
   "execution_count": 3,
   "metadata": {},
   "outputs": [
    {
     "name": "stderr",
     "output_type": "stream",
     "text": [
      "Loss: 617.420471: 100%|██████████| 400/400 [04:28<00:00,  1.49it/s] \n"
     ]
    }
   ],
   "source": [
    "dqn.train_autoencoder(\n",
    "    buffer_size=5_000,\n",
    "    time_steps=1_000,\n",
    "    episodes=1,\n",
    "    epochs=400,\n",
    "    batch_size=256\n",
    ")"
   ]
  },
  {
   "cell_type": "code",
   "execution_count": null,
   "metadata": {},
   "outputs": [],
   "source": [
    "dqn.train(\n",
    "    alpha=.1,\n",
    "    buffer_size=3_000,\n",
    "    num_episodes=10000,\n",
    "    epsilon=.99,\n",
    "    gamma=.98,\n",
    "    steps=100,\n",
    "    sample_prob=1,\n",
    "    learning_starts=0.1,\n",
    "    samples_per_train=10_000,\n",
    "    batch_size=256\n",
    ")"
   ]
  },
  {
   "cell_type": "code",
   "execution_count": null,
   "metadata": {},
   "outputs": [],
   "source": [
    "dqn.play(show=True, show_decode=True)"
   ]
  }
 ],
 "metadata": {
  "kernelspec": {
   "display_name": ".venv",
   "language": "python",
   "name": "python3"
  },
  "language_info": {
   "codemirror_mode": {
    "name": "ipython",
    "version": 3
   },
   "file_extension": ".py",
   "mimetype": "text/x-python",
   "name": "python",
   "nbconvert_exporter": "python",
   "pygments_lexer": "ipython3",
   "version": "3.11.7"
  }
 },
 "nbformat": 4,
 "nbformat_minor": 2
}
