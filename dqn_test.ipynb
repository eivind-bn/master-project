{
 "cells": [
  {
   "cell_type": "code",
   "execution_count": 1,
   "metadata": {},
   "outputs": [],
   "source": [
    "from xai import *\n",
    "import torch"
   ]
  },
  {
   "cell_type": "code",
   "execution_count": 2,
   "metadata": {},
   "outputs": [],
   "source": [
    "\n",
    "try:\n",
    "    dqn = DQN.load(\"dqn-model.pt\")\n",
    "except FileNotFoundError:\n",
    "    print(\"Creating new agent...\")\n",
    "    dqn = DQN(autoencoder_path=\"asteroids-l32.pt\",translate=True, rotate=True, device=\"cpu\") \n",
    "    dqn.save(\"dqn-model.pt\")"
   ]
  },
  {
   "cell_type": "code",
   "execution_count": null,
   "metadata": {},
   "outputs": [],
   "source": [
    "dqn.train(\n",
    "    total_time_steps=1_000_000,\n",
    "    replay_buffer_size=GigaBytes(2),\n",
    "    learning_rate = 1e-3,\n",
    "    learning_starts = 50,\n",
    "    batch_size = 16,\n",
    "    tau = 1.0,\n",
    "    gamma = 0.99,\n",
    "    train_frequency = 32,\n",
    "    frame_skip=4,\n",
    "    gradient_steps = 2,\n",
    "    episode_save_freq= 3,\n",
    "    target_update_frequency = 2000,\n",
    "    final_exploration_rate_progress = 0.03,\n",
    "    initial_exploration_rate = 1.0,\n",
    "    final_exploration_rate = 0.05,\n",
    "    verbose = True\n",
    ")"
   ]
  },
  {
   "cell_type": "code",
   "execution_count": 3,
   "metadata": {},
   "outputs": [
    {
     "name": "stderr",
     "output_type": "stream",
     "text": [
      "CUDA initialization: The NVIDIA driver on your system is too old (found version 11040). Please update your GPU driver by downloading and installing a new version from the URL: http://www.nvidia.com/Download/index.aspx Alternatively, go to: https://pytorch.org to install a PyTorch version that has been compiled with your version of the CUDA driver. (Triggered internally at ../c10/cuda/CUDAFunctions.cpp:108.)\n"
     ]
    },
    {
     "ename": "KeyboardInterrupt",
     "evalue": "",
     "output_type": "error",
     "traceback": [
      "\u001b[0;31m---------------------------------------------------------------------------\u001b[0m",
      "\u001b[0;31mKeyboardInterrupt\u001b[0m                         Traceback (most recent call last)",
      "Cell \u001b[0;32mIn[3], line 1\u001b[0m\n\u001b[0;32m----> 1\u001b[0m \u001b[43mRecorder\u001b[49m\u001b[43m(\u001b[49m\u001b[38;5;124;43m\"\u001b[39;49m\u001b[38;5;124;43mtest.mp4\u001b[39;49m\u001b[38;5;124;43m\"\u001b[39;49m\u001b[43m)\u001b[49m\u001b[38;5;241;43m.\u001b[39;49m\u001b[43mfrom_iterable\u001b[49m\u001b[43m(\u001b[49m\u001b[43mdqn\u001b[49m\u001b[38;5;241;43m.\u001b[39;49m\u001b[43mrollout\u001b[49m\u001b[43m(\u001b[49m\u001b[38;5;241;43m0.0\u001b[39;49m\u001b[43m,\u001b[49m\u001b[43m \u001b[49m\u001b[43mframe_skips\u001b[49m\u001b[38;5;241;43m=\u001b[39;49m\u001b[38;5;241;43m4\u001b[39;49m\u001b[43m)\u001b[49m\u001b[38;5;241;43m.\u001b[39;49m\u001b[43mtake\u001b[49m\u001b[43m(\u001b[49m\u001b[38;5;241;43m3000\u001b[39;49m\u001b[43m)\u001b[49m\u001b[38;5;241;43m.\u001b[39;49m\u001b[43mmap\u001b[49m\u001b[43m(\u001b[49m\u001b[38;5;28;43;01mlambda\u001b[39;49;00m\u001b[43m \u001b[49m\u001b[43mstep\u001b[49m\u001b[43m:\u001b[49m\u001b[43m \u001b[49m\u001b[43mstep\u001b[49m\u001b[38;5;241;43m.\u001b[39;49m\u001b[43mobservation\u001b[49m\u001b[38;5;241;43m.\u001b[39;49m\u001b[43mnumpy\u001b[49m\u001b[43m(\u001b[49m\u001b[38;5;28;43;01mFalse\u001b[39;49;00m\u001b[43m)\u001b[49m\u001b[43m)\u001b[49m\u001b[43m)\u001b[49m\n",
      "File \u001b[0;32m~/master-project/xai/record.py:45\u001b[0m, in \u001b[0;36mRecorder.from_iterable\u001b[0;34m(self, frames)\u001b[0m\n\u001b[1;32m     43\u001b[0m \u001b[38;5;28;01mdef\u001b[39;00m \u001b[38;5;21mfrom_iterable\u001b[39m(\u001b[38;5;28mself\u001b[39m, frames: Iterable[NDArray[np\u001b[38;5;241m.\u001b[39muint8\u001b[38;5;241m|\u001b[39mnp\u001b[38;5;241m.\u001b[39mfloat32]]) \u001b[38;5;241m-\u001b[39m\u001b[38;5;241m>\u001b[39m \u001b[38;5;28;01mNone\u001b[39;00m:\n\u001b[1;32m     44\u001b[0m     \u001b[38;5;28;01mwith\u001b[39;00m \u001b[38;5;28mself\u001b[39m \u001b[38;5;28;01mas\u001b[39;00m recorder:\n\u001b[0;32m---> 45\u001b[0m \u001b[43m        \u001b[49m\u001b[38;5;28;43;01mfor\u001b[39;49;00m\u001b[43m \u001b[49m\u001b[43mframe\u001b[49m\u001b[43m \u001b[49m\u001b[38;5;129;43;01min\u001b[39;49;00m\u001b[43m \u001b[49m\u001b[43mframes\u001b[49m\u001b[43m:\u001b[49m\n\u001b[1;32m     46\u001b[0m \u001b[43m            \u001b[49m\u001b[43mrecorder\u001b[49m\u001b[43m(\u001b[49m\u001b[43mframe\u001b[49m\u001b[43m)\u001b[49m\n",
      "File \u001b[0;32m~/master-project/xai/stream.py:43\u001b[0m, in \u001b[0;36m<genexpr>\u001b[0;34m(.0)\u001b[0m\n\u001b[1;32m     42\u001b[0m \u001b[38;5;28;01mdef\u001b[39;00m \u001b[38;5;21mmap\u001b[39m(\u001b[38;5;28mself\u001b[39m, f: Callable[[X],Y]) \u001b[38;5;241m-\u001b[39m\u001b[38;5;241m>\u001b[39m \u001b[38;5;124m\"\u001b[39m\u001b[38;5;124mStream[Y]\u001b[39m\u001b[38;5;124m\"\u001b[39m:\n\u001b[0;32m---> 43\u001b[0m     \u001b[38;5;28;01mreturn\u001b[39;00m Stream(\u001b[43m(\u001b[49m\u001b[43mf\u001b[49m\u001b[43m(\u001b[49m\u001b[43mx\u001b[49m\u001b[43m)\u001b[49m\u001b[43m \u001b[49m\u001b[38;5;28;43;01mfor\u001b[39;49;00m\u001b[43m \u001b[49m\u001b[43mx\u001b[49m\u001b[43m \u001b[49m\u001b[38;5;129;43;01min\u001b[39;49;00m\u001b[43m \u001b[49m\u001b[38;5;28;43mself\u001b[39;49m\u001b[43m)\u001b[49m, expected_size\u001b[38;5;241m=\u001b[39m\u001b[38;5;28mself\u001b[39m\u001b[38;5;241m.\u001b[39m_expected_length)\n",
      "File \u001b[0;32m~/master-project/xai/stream.py:89\u001b[0m, in \u001b[0;36mStream.take.<locals>.iterator\u001b[0;34m()\u001b[0m\n\u001b[1;32m     87\u001b[0m \u001b[38;5;28;01mdef\u001b[39;00m \u001b[38;5;21miterator\u001b[39m() \u001b[38;5;241m-\u001b[39m\u001b[38;5;241m>\u001b[39m Iterator[X]:\n\u001b[1;32m     88\u001b[0m     stop \u001b[38;5;241m=\u001b[39m count \u001b[38;5;241m-\u001b[39m \u001b[38;5;241m1\u001b[39m\n\u001b[0;32m---> 89\u001b[0m \u001b[43m    \u001b[49m\u001b[38;5;28;43;01mfor\u001b[39;49;00m\u001b[43m \u001b[49m\u001b[43mi\u001b[49m\u001b[43m,\u001b[49m\u001b[43mx\u001b[49m\u001b[43m \u001b[49m\u001b[38;5;129;43;01min\u001b[39;49;00m\u001b[43m \u001b[49m\u001b[38;5;28;43menumerate\u001b[39;49m\u001b[43m(\u001b[49m\u001b[38;5;28;43mself\u001b[39;49m\u001b[43m)\u001b[49m\u001b[43m:\u001b[49m\n\u001b[1;32m     90\u001b[0m \u001b[43m        \u001b[49m\u001b[38;5;28;43;01myield\u001b[39;49;00m\u001b[43m \u001b[49m\u001b[43mx\u001b[49m\n\u001b[1;32m     91\u001b[0m \u001b[43m        \u001b[49m\u001b[38;5;28;43;01mif\u001b[39;49;00m\u001b[43m \u001b[49m\u001b[43mi\u001b[49m\u001b[43m \u001b[49m\u001b[38;5;241;43m==\u001b[39;49m\u001b[43m \u001b[49m\u001b[43mstop\u001b[49m\u001b[43m:\u001b[49m\n",
      "File \u001b[0;32m~/master-project/xai/dqn.py:112\u001b[0m, in \u001b[0;36mDQN.rollout.<locals>.iterator\u001b[0;34m()\u001b[0m\n\u001b[1;32m    109\u001b[0m         action \u001b[38;5;241m=\u001b[39m \u001b[38;5;28mself\u001b[39m\u001b[38;5;241m.\u001b[39m_actions[action_id]\n\u001b[1;32m    111\u001b[0m observation,rewards \u001b[38;5;241m=\u001b[39m env\u001b[38;5;241m.\u001b[39mstep(action)\n\u001b[0;32m--> 112\u001b[0m latents\u001b[38;5;241m.\u001b[39mappend(\u001b[43mencode\u001b[49m\u001b[43m(\u001b[49m\u001b[43mobservation\u001b[49m\u001b[43m)\u001b[49m)\n\u001b[1;32m    114\u001b[0m next_state \u001b[38;5;241m=\u001b[39m torch\u001b[38;5;241m.\u001b[39mstack(\u001b[38;5;28mtuple\u001b[39m(latents))\u001b[38;5;241m.\u001b[39mreshape((\u001b[38;5;241m1\u001b[39m,\u001b[38;5;241m-\u001b[39m\u001b[38;5;241m1\u001b[39m))\n\u001b[1;32m    116\u001b[0m \u001b[38;5;28;01myield\u001b[39;00m DQN\u001b[38;5;241m.\u001b[39mStep(\n\u001b[1;32m    117\u001b[0m     observation\u001b[38;5;241m=\u001b[39mobservation,\n\u001b[1;32m    118\u001b[0m     action\u001b[38;5;241m=\u001b[39maction,\n\u001b[0;32m   (...)\u001b[0m\n\u001b[1;32m    123\u001b[0m     action_id\u001b[38;5;241m=\u001b[39maction_id\n\u001b[1;32m    124\u001b[0m )\n",
      "File \u001b[0;32m~/master-project/xai/dqn.py:74\u001b[0m, in \u001b[0;36mDQN.rollout.<locals>.iterator.<locals>.encode\u001b[0;34m(observation)\u001b[0m\n\u001b[1;32m     72\u001b[0m     observation \u001b[38;5;241m=\u001b[39m observation\u001b[38;5;241m.\u001b[39mtranslated()\n\u001b[1;32m     73\u001b[0m \u001b[38;5;28;01mif\u001b[39;00m \u001b[38;5;28mself\u001b[39m\u001b[38;5;241m.\u001b[39m_rotate:\n\u001b[0;32m---> 74\u001b[0m     observation \u001b[38;5;241m=\u001b[39m \u001b[43mobservation\u001b[49m\u001b[38;5;241;43m.\u001b[39;49m\u001b[43mrotated\u001b[49m\u001b[43m(\u001b[49m\u001b[43m)\u001b[49m\n\u001b[1;32m     76\u001b[0m embedding: Tensor \u001b[38;5;241m=\u001b[39m \u001b[38;5;28mself\u001b[39m\u001b[38;5;241m.\u001b[39m_autoencoder\u001b[38;5;241m.\u001b[39mencoder(observation\u001b[38;5;241m.\u001b[39mtensor(normalize\u001b[38;5;241m=\u001b[39m\u001b[38;5;28;01mTrue\u001b[39;00m, device\u001b[38;5;241m=\u001b[39m\u001b[38;5;28mself\u001b[39m\u001b[38;5;241m.\u001b[39m_device)\u001b[38;5;241m.\u001b[39munsqueeze(\u001b[38;5;241m0\u001b[39m))\u001b[38;5;241m.\u001b[39moutput()\n\u001b[1;32m     77\u001b[0m embedding \u001b[38;5;241m=\u001b[39m embedding\u001b[38;5;241m.\u001b[39msqueeze(\u001b[38;5;241m0\u001b[39m)\n",
      "File \u001b[0;32m~/master-project/xai/observation.py:149\u001b[0m, in \u001b[0;36mObservation.rotated\u001b[0;34m(self)\u001b[0m\n\u001b[1;32m    145\u001b[0m     \u001b[38;5;28;01mreturn\u001b[39;00m \u001b[38;5;28mself\u001b[39m\n\u001b[1;32m    146\u001b[0m \u001b[38;5;28;01melse\u001b[39;00m:\n\u001b[1;32m    147\u001b[0m     \u001b[38;5;28;01mreturn\u001b[39;00m Observation(\n\u001b[1;32m    148\u001b[0m         spaceship\u001b[38;5;241m=\u001b[39mrotate_layer(\u001b[38;5;28mself\u001b[39m\u001b[38;5;241m.\u001b[39mspaceship, angle\u001b[38;5;241m=\u001b[39m\u001b[38;5;28mself\u001b[39m\u001b[38;5;241m.\u001b[39mspaceship_angle),\n\u001b[0;32m--> 149\u001b[0m         asteroids\u001b[38;5;241m=\u001b[39m\u001b[43mrotate_layer\u001b[49m\u001b[43m(\u001b[49m\u001b[38;5;28;43mself\u001b[39;49m\u001b[38;5;241;43m.\u001b[39;49m\u001b[43masteroids\u001b[49m\u001b[43m,\u001b[49m\u001b[43m \u001b[49m\u001b[43mangle\u001b[49m\u001b[38;5;241;43m=\u001b[39;49m\u001b[38;5;28;43mself\u001b[39;49m\u001b[38;5;241;43m.\u001b[39;49m\u001b[43mspaceship_angle\u001b[49m\u001b[43m)\u001b[49m\n\u001b[1;32m    150\u001b[0m     )\n",
      "File \u001b[0;32m~/master-project/xai/observation.py:118\u001b[0m, in \u001b[0;36mObservation.rotated.<locals>.rotate_layer\u001b[0;34m(layer, angle)\u001b[0m\n\u001b[1;32m    115\u001b[0m y_ref \u001b[38;5;241m=\u001b[39m np\u001b[38;5;241m.\u001b[39mconcatenate([idy\u001b[38;5;241m-\u001b[39mY,idy,idy\u001b[38;5;241m+\u001b[39mY]\u001b[38;5;241m*\u001b[39m\u001b[38;5;241m3\u001b[39m) \u001b[38;5;241m-\u001b[39m y_center\n\u001b[1;32m    116\u001b[0m x_ref \u001b[38;5;241m=\u001b[39m np\u001b[38;5;241m.\u001b[39mconcatenate([idx\u001b[38;5;241m-\u001b[39mX]\u001b[38;5;241m*\u001b[39m\u001b[38;5;241m3\u001b[39m \u001b[38;5;241m+\u001b[39m [idx]\u001b[38;5;241m*\u001b[39m\u001b[38;5;241m3\u001b[39m \u001b[38;5;241m+\u001b[39m [idx\u001b[38;5;241m+\u001b[39mX]\u001b[38;5;241m*\u001b[39m\u001b[38;5;241m3\u001b[39m) \u001b[38;5;241m-\u001b[39m x_center\n\u001b[0;32m--> 118\u001b[0m y_rot \u001b[38;5;241m=\u001b[39m np\u001b[38;5;241m.\u001b[39marray(y_ref\u001b[38;5;241m*\u001b[39mradians\u001b[38;5;241m.\u001b[39mcos() \u001b[38;5;241m-\u001b[39m x_ref\u001b[38;5;241m*\u001b[39mradians\u001b[38;5;241m.\u001b[39msin() \u001b[38;5;241m+\u001b[39m y_center)\n\u001b[1;32m    119\u001b[0m x_rot \u001b[38;5;241m=\u001b[39m np\u001b[38;5;241m.\u001b[39marray(y_ref\u001b[38;5;241m*\u001b[39mradians\u001b[38;5;241m.\u001b[39msin() \u001b[38;5;241m+\u001b[39m x_ref\u001b[38;5;241m*\u001b[39mradians\u001b[38;5;241m.\u001b[39mcos() \u001b[38;5;241m+\u001b[39m x_center)\n\u001b[1;32m    121\u001b[0m y_rot_loc \u001b[38;5;241m=\u001b[39m np\u001b[38;5;241m.\u001b[39marray([\n\u001b[1;32m    122\u001b[0m     y_rot \u001b[38;5;241m-\u001b[39m \u001b[38;5;241m0.5\u001b[39m,\n\u001b[1;32m    123\u001b[0m     y_rot,\n\u001b[1;32m    124\u001b[0m     y_rot \u001b[38;5;241m+\u001b[39m \u001b[38;5;241m0.5\u001b[39m\n\u001b[1;32m    125\u001b[0m ], dtype\u001b[38;5;241m=\u001b[39m\u001b[38;5;28mint\u001b[39m)\n",
      "\u001b[0;31mKeyboardInterrupt\u001b[0m: "
     ]
    }
   ],
   "source": [
    "Recorder(\"test.mp4\").write(dqn.rollout(0.0, frame_skips=4).take(3000).map(lambda step: step.observation.numpy(False)))"
   ]
  },
  {
   "cell_type": "code",
   "execution_count": 4,
   "metadata": {},
   "outputs": [
    {
     "ename": "WindowClosed",
     "evalue": "",
     "output_type": "error",
     "traceback": [
      "\u001b[0;31m---------------------------------------------------------------------------\u001b[0m",
      "\u001b[0;31mWindowClosed\u001b[0m                              Traceback (most recent call last)",
      "Cell \u001b[0;32mIn[4], line 3\u001b[0m\n\u001b[1;32m      1\u001b[0m \u001b[38;5;28;01mwith\u001b[39;00m Window(\u001b[38;5;124m\"\u001b[39m\u001b[38;5;124mAsteroids\u001b[39m\u001b[38;5;124m\"\u001b[39m, \u001b[38;5;241m60\u001b[39m, \u001b[38;5;241m4.0\u001b[39m) \u001b[38;5;28;01mas\u001b[39;00m window:\n\u001b[1;32m      2\u001b[0m     \u001b[38;5;28;01mfor\u001b[39;00m step \u001b[38;5;129;01min\u001b[39;00m dqn\u001b[38;5;241m.\u001b[39mrollout(\u001b[38;5;241m0.0\u001b[39m, frame_skips\u001b[38;5;241m=\u001b[39m\u001b[38;5;241m4\u001b[39m)\u001b[38;5;241m.\u001b[39mtake(\u001b[38;5;241m3000\u001b[39m):\n\u001b[0;32m----> 3\u001b[0m         \u001b[43mwindow\u001b[49m\u001b[43m(\u001b[49m\u001b[43mstep\u001b[49m\u001b[38;5;241;43m.\u001b[39;49m\u001b[43mobservation\u001b[49m\u001b[38;5;241;43m.\u001b[39;49m\u001b[43mnumpy\u001b[49m\u001b[43m(\u001b[49m\u001b[38;5;28;43;01mFalse\u001b[39;49;00m\u001b[43m)\u001b[49m\u001b[43m)\u001b[49m\n",
      "File \u001b[0;32m~/master-project/xai/window.py:28\u001b[0m, in \u001b[0;36mWindowInterface.__call__\u001b[0;34m(self, image)\u001b[0m\n\u001b[1;32m     27\u001b[0m \u001b[38;5;28;01mdef\u001b[39;00m \u001b[38;5;21m__call__\u001b[39m(\u001b[38;5;28mself\u001b[39m, image: NDArray[uint8]\u001b[38;5;241m|\u001b[39m\u001b[38;5;28;01mNone\u001b[39;00m) \u001b[38;5;241m-\u001b[39m\u001b[38;5;241m>\u001b[39m Events:\n\u001b[0;32m---> 28\u001b[0m     \u001b[38;5;28;01mreturn\u001b[39;00m \u001b[38;5;28;43mself\u001b[39;49m\u001b[38;5;241;43m.\u001b[39;49m\u001b[43mupdate\u001b[49m\u001b[43m(\u001b[49m\u001b[43mimage\u001b[49m\u001b[43m)\u001b[49m\n",
      "File \u001b[0;32m~/master-project/xai/window.py:22\u001b[0m, in \u001b[0;36mWindowInterface.update\u001b[0;34m(self, image)\u001b[0m\n\u001b[1;32m     21\u001b[0m \u001b[38;5;28;01mdef\u001b[39;00m \u001b[38;5;21mupdate\u001b[39m(\u001b[38;5;28mself\u001b[39m, image: NDArray[uint8]\u001b[38;5;241m|\u001b[39m\u001b[38;5;28;01mNone\u001b[39;00m) \u001b[38;5;241m-\u001b[39m\u001b[38;5;241m>\u001b[39m Events:\n\u001b[0;32m---> 22\u001b[0m     \u001b[38;5;28;01mreturn\u001b[39;00m \u001b[38;5;28;43mself\u001b[39;49m\u001b[38;5;241;43m.\u001b[39;49m\u001b[43m_updater\u001b[49m\u001b[43m(\u001b[49m\u001b[43mimage\u001b[49m\u001b[43m)\u001b[49m\n",
      "File \u001b[0;32m~/master-project/xai/window.py:86\u001b[0m, in \u001b[0;36mWindow._update_and_poll_events\u001b[0;34m(self, image)\u001b[0m\n\u001b[1;32m     83\u001b[0m end \u001b[38;5;241m=\u001b[39m \u001b[38;5;28mself\u001b[39m\u001b[38;5;241m.\u001b[39m_next_end\n\u001b[1;32m     85\u001b[0m \u001b[38;5;28;01mif\u001b[39;00m \u001b[38;5;129;01mnot\u001b[39;00m \u001b[38;5;28mself\u001b[39m\u001b[38;5;241m.\u001b[39m_window_visible():\n\u001b[0;32m---> 86\u001b[0m     \u001b[38;5;28;01mraise\u001b[39;00m WindowClosed()\n\u001b[1;32m     88\u001b[0m \u001b[38;5;28;01mif\u001b[39;00m image \u001b[38;5;129;01mis\u001b[39;00m \u001b[38;5;129;01mnot\u001b[39;00m \u001b[38;5;28;01mNone\u001b[39;00m:\n\u001b[1;32m     89\u001b[0m     cv2\u001b[38;5;241m.\u001b[39mimshow(\u001b[38;5;28mself\u001b[39m\u001b[38;5;241m.\u001b[39m_name, image[:,:,::\u001b[38;5;241m-\u001b[39m\u001b[38;5;241m1\u001b[39m] \u001b[38;5;28;01mif\u001b[39;00m \u001b[38;5;28mself\u001b[39m\u001b[38;5;241m.\u001b[39m_flip_color_endianness \u001b[38;5;28;01melse\u001b[39;00m image)\n",
      "\u001b[0;31mWindowClosed\u001b[0m: "
     ]
    }
   ],
   "source": [
    "with Window(\"Asteroids\", 60, 4.0) as window:\n",
    "    for step in dqn.rollout(0.0, frame_skips=4).take(3000):\n",
    "        window(step.observation.numpy(False))"
   ]
  }
 ],
 "metadata": {
  "kernelspec": {
   "display_name": ".venv",
   "language": "python",
   "name": "python3"
  },
  "language_info": {
   "codemirror_mode": {
    "name": "ipython",
    "version": 3
   },
   "file_extension": ".py",
   "mimetype": "text/x-python",
   "name": "python",
   "nbconvert_exporter": "python",
   "pygments_lexer": "ipython3",
   "version": "3.11.8"
  }
 },
 "nbformat": 4,
 "nbformat_minor": 2
}
