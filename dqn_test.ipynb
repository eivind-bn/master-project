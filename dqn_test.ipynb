{
 "cells": [
  {
   "cell_type": "code",
   "execution_count": null,
   "metadata": {},
   "outputs": [],
   "source": [
    "import xai\n",
    "     \n",
    "dqn = xai.DQN(autoencoder_path=\"autoencoder-l32.pt\",translate=True, rotate=True, device=\"cpu\") "
   ]
  },
  {
   "cell_type": "code",
   "execution_count": null,
   "metadata": {},
   "outputs": [],
   "source": [
    "dqn.train(\n",
    "    total_time_steps=1_000_000,\n",
    "    replay_buffer_size=xai.GigaBytes(12),\n",
    "    learning_rate = 1e-3,\n",
    "    learning_starts = 50,\n",
    "    batch_size = 16,\n",
    "    tau = 1.0,\n",
    "    gamma = 0.99,\n",
    "    train_frequency = (32, \"step\"),\n",
    "    frame_skip=4,\n",
    "    gradient_steps = 2,\n",
    "    save_frequency= (3, \"episode\", \"./dqn-model.pt\"),\n",
    "    target_update_frequency = (1, \"episode\"),\n",
    "    final_exploration_rate_progress = 0.03,\n",
    "    initial_exploration_rate = 1.0,\n",
    "    final_exploration_rate = 0.05,\n",
    "    verbose = True\n",
    ")"
   ]
  },
  {
   "cell_type": "code",
   "execution_count": 3,
   "metadata": {},
   "outputs": [
    {
     "ename": "NameError",
     "evalue": "name 'dqn' is not defined",
     "output_type": "error",
     "traceback": [
      "\u001b[0;31m---------------------------------------------------------------------------\u001b[0m",
      "\u001b[0;31mNameError\u001b[0m                                 Traceback (most recent call last)",
      "Cell \u001b[0;32mIn[3], line 2\u001b[0m\n\u001b[1;32m      1\u001b[0m \u001b[38;5;28;01mwith\u001b[39;00m xai\u001b[38;5;241m.\u001b[39mWindow(\u001b[38;5;124m\"\u001b[39m\u001b[38;5;124mAsteroids\u001b[39m\u001b[38;5;124m\"\u001b[39m, \u001b[38;5;241m60\u001b[39m, \u001b[38;5;241m4.0\u001b[39m) \u001b[38;5;28;01mas\u001b[39;00m window:\n\u001b[0;32m----> 2\u001b[0m     \u001b[38;5;28;01mfor\u001b[39;00m step \u001b[38;5;129;01min\u001b[39;00m \u001b[43mdqn\u001b[49m\u001b[38;5;241m.\u001b[39mrollout(\u001b[38;5;241m0.0\u001b[39m, frame_skips\u001b[38;5;241m=\u001b[39m\u001b[38;5;241m4\u001b[39m)\u001b[38;5;241m.\u001b[39mtake(\u001b[38;5;241m3000\u001b[39m):\n\u001b[1;32m      3\u001b[0m         window(step\u001b[38;5;241m.\u001b[39mobservation\u001b[38;5;241m.\u001b[39mnumpy(\u001b[38;5;28;01mFalse\u001b[39;00m))\n",
      "\u001b[0;31mNameError\u001b[0m: name 'dqn' is not defined"
     ]
    }
   ],
   "source": [
    "with xai.Window(\"Asteroids\", 60, 4.0) as window:\n",
    "    for step in dqn.rollout(0.0, frame_skips=4).take(3000):\n",
    "        window(step.observation.numpy(False))"
   ]
  }
 ],
 "metadata": {
  "kernelspec": {
   "display_name": ".venv",
   "language": "python",
   "name": "python3"
  },
  "language_info": {
   "codemirror_mode": {
    "name": "ipython",
    "version": 3
   },
   "file_extension": ".py",
   "mimetype": "text/x-python",
   "name": "python",
   "nbconvert_exporter": "python",
   "pygments_lexer": "ipython3",
   "version": "3.11.5"
  }
 },
 "nbformat": 4,
 "nbformat_minor": 2
}
