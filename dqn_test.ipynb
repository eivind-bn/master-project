{
 "cells": [
  {
   "cell_type": "code",
   "execution_count": null,
   "metadata": {},
   "outputs": [],
   "source": [
    "from xai import *\n",
    "import torch"
   ]
  },
  {
   "cell_type": "code",
   "execution_count": null,
   "metadata": {},
   "outputs": [],
   "source": [
    "\n",
    "try:\n",
    "    dqn = DQN.load(\"dqn-model.pt\")\n",
    "except FileNotFoundError:\n",
    "    print(\"Creating new agent...\")\n",
    "    dqn = DQN(autoencoder_path=\"asteroids-l32.pt\",translate=True, rotate=True, device=\"cpu\") \n",
    "    dqn.save(\"dqn-model.pt\")"
   ]
  },
  {
   "cell_type": "code",
   "execution_count": null,
   "metadata": {},
   "outputs": [],
   "source": [
    "dqn.train(\n",
    "    total_time_steps=1_000_000,\n",
    "    replay_buffer_size=GigaBytes(2),\n",
    "    learning_rate = 1e-3,\n",
    "    learning_starts = 50,\n",
    "    batch_size = 16,\n",
    "    tau = 1.0,\n",
    "    gamma = 0.99,\n",
    "    train_frequency = 32,\n",
    "    frame_skip=4,\n",
    "    gradient_steps = 2,\n",
    "    episode_save_freq= 3,\n",
    "    target_update_frequency = 2000,\n",
    "    final_exploration_rate_progress = 0.03,\n",
    "    initial_exploration_rate = 1.0,\n",
    "    final_exploration_rate = 0.05,\n",
    "    verbose = True\n",
    ")"
   ]
  },
  {
   "cell_type": "code",
   "execution_count": 4,
   "metadata": {},
   "outputs": [
    {
     "ename": "WindowClosed",
     "evalue": "",
     "output_type": "error",
     "traceback": [
      "\u001b[0;31m---------------------------------------------------------------------------\u001b[0m",
      "\u001b[0;31mWindowClosed\u001b[0m                              Traceback (most recent call last)",
      "Cell \u001b[0;32mIn[4], line 3\u001b[0m\n\u001b[1;32m      1\u001b[0m \u001b[38;5;28;01mwith\u001b[39;00m Window(\u001b[38;5;124m\"\u001b[39m\u001b[38;5;124mAsteroids\u001b[39m\u001b[38;5;124m\"\u001b[39m, \u001b[38;5;241m60\u001b[39m, \u001b[38;5;241m4.0\u001b[39m) \u001b[38;5;28;01mas\u001b[39;00m window:\n\u001b[1;32m      2\u001b[0m     \u001b[38;5;28;01mfor\u001b[39;00m step \u001b[38;5;129;01min\u001b[39;00m dqn\u001b[38;5;241m.\u001b[39mrollout(\u001b[38;5;241m0.0\u001b[39m, frame_skips\u001b[38;5;241m=\u001b[39m\u001b[38;5;241m4\u001b[39m)\u001b[38;5;241m.\u001b[39mtake(\u001b[38;5;241m3000\u001b[39m):\n\u001b[0;32m----> 3\u001b[0m         \u001b[43mwindow\u001b[49m\u001b[43m(\u001b[49m\u001b[43mstep\u001b[49m\u001b[38;5;241;43m.\u001b[39;49m\u001b[43mobservation\u001b[49m\u001b[38;5;241;43m.\u001b[39;49m\u001b[43mnumpy\u001b[49m\u001b[43m(\u001b[49m\u001b[38;5;28;43;01mFalse\u001b[39;49;00m\u001b[43m)\u001b[49m\u001b[43m)\u001b[49m\n",
      "File \u001b[0;32m~/master-project/xai/window.py:28\u001b[0m, in \u001b[0;36mWindowInterface.__call__\u001b[0;34m(self, image)\u001b[0m\n\u001b[1;32m     27\u001b[0m \u001b[38;5;28;01mdef\u001b[39;00m \u001b[38;5;21m__call__\u001b[39m(\u001b[38;5;28mself\u001b[39m, image: NDArray[uint8]\u001b[38;5;241m|\u001b[39m\u001b[38;5;28;01mNone\u001b[39;00m) \u001b[38;5;241m-\u001b[39m\u001b[38;5;241m>\u001b[39m Events:\n\u001b[0;32m---> 28\u001b[0m     \u001b[38;5;28;01mreturn\u001b[39;00m \u001b[38;5;28;43mself\u001b[39;49m\u001b[38;5;241;43m.\u001b[39;49m\u001b[43mupdate\u001b[49m\u001b[43m(\u001b[49m\u001b[43mimage\u001b[49m\u001b[43m)\u001b[49m\n",
      "File \u001b[0;32m~/master-project/xai/window.py:22\u001b[0m, in \u001b[0;36mWindowInterface.update\u001b[0;34m(self, image)\u001b[0m\n\u001b[1;32m     21\u001b[0m \u001b[38;5;28;01mdef\u001b[39;00m \u001b[38;5;21mupdate\u001b[39m(\u001b[38;5;28mself\u001b[39m, image: NDArray[uint8]\u001b[38;5;241m|\u001b[39m\u001b[38;5;28;01mNone\u001b[39;00m) \u001b[38;5;241m-\u001b[39m\u001b[38;5;241m>\u001b[39m Events:\n\u001b[0;32m---> 22\u001b[0m     \u001b[38;5;28;01mreturn\u001b[39;00m \u001b[38;5;28;43mself\u001b[39;49m\u001b[38;5;241;43m.\u001b[39;49m\u001b[43m_updater\u001b[49m\u001b[43m(\u001b[49m\u001b[43mimage\u001b[49m\u001b[43m)\u001b[49m\n",
      "File \u001b[0;32m~/master-project/xai/window.py:86\u001b[0m, in \u001b[0;36mWindow._update_and_poll_events\u001b[0;34m(self, image)\u001b[0m\n\u001b[1;32m     83\u001b[0m end \u001b[38;5;241m=\u001b[39m \u001b[38;5;28mself\u001b[39m\u001b[38;5;241m.\u001b[39m_next_end\n\u001b[1;32m     85\u001b[0m \u001b[38;5;28;01mif\u001b[39;00m \u001b[38;5;129;01mnot\u001b[39;00m \u001b[38;5;28mself\u001b[39m\u001b[38;5;241m.\u001b[39m_window_visible():\n\u001b[0;32m---> 86\u001b[0m     \u001b[38;5;28;01mraise\u001b[39;00m WindowClosed()\n\u001b[1;32m     88\u001b[0m \u001b[38;5;28;01mif\u001b[39;00m image \u001b[38;5;129;01mis\u001b[39;00m \u001b[38;5;129;01mnot\u001b[39;00m \u001b[38;5;28;01mNone\u001b[39;00m:\n\u001b[1;32m     89\u001b[0m     cv2\u001b[38;5;241m.\u001b[39mimshow(\u001b[38;5;28mself\u001b[39m\u001b[38;5;241m.\u001b[39m_name, image[:,:,::\u001b[38;5;241m-\u001b[39m\u001b[38;5;241m1\u001b[39m] \u001b[38;5;28;01mif\u001b[39;00m \u001b[38;5;28mself\u001b[39m\u001b[38;5;241m.\u001b[39m_flip_color_endianness \u001b[38;5;28;01melse\u001b[39;00m image)\n",
      "\u001b[0;31mWindowClosed\u001b[0m: "
     ]
    }
   ],
   "source": [
    "with Window(\"Asteroids\", 60, 4.0) as window:\n",
    "    for step in dqn.rollout(0.0, frame_skips=4).take(3000):\n",
    "        window(step.observation.numpy(False))"
   ]
  }
 ],
 "metadata": {
  "kernelspec": {
   "display_name": ".venv",
   "language": "python",
   "name": "python3"
  },
  "language_info": {
   "codemirror_mode": {
    "name": "ipython",
    "version": 3
   },
   "file_extension": ".py",
   "mimetype": "text/x-python",
   "name": "python",
   "nbconvert_exporter": "python",
   "pygments_lexer": "ipython3",
   "version": "3.11.8"
  }
 },
 "nbformat": 4,
 "nbformat_minor": 2
}
