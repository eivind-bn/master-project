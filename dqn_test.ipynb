{
 "cells": [
  {
   "cell_type": "code",
   "execution_count": 15,
   "metadata": {},
   "outputs": [
    {
     "name": "stderr",
     "output_type": "stream",
     "text": [
      "IProgress not found. Please update jupyter and ipywidgets. See https://ipywidgets.readthedocs.io/en/stable/user_install.html\n"
     ]
    },
    {
     "ename": "TypeError",
     "evalue": "Can't instantiate abstract class DQN with abstract method breed",
     "output_type": "error",
     "traceback": [
      "\u001b[0;31m---------------------------------------------------------------------------\u001b[0m",
      "\u001b[0;31mTypeError\u001b[0m                                 Traceback (most recent call last)",
      "Cell \u001b[0;32mIn[15], line 5\u001b[0m\n\u001b[1;32m      1\u001b[0m \u001b[38;5;28;01mfrom\u001b[39;00m \u001b[38;5;21;01mxai\u001b[39;00m\u001b[38;5;21;01m.\u001b[39;00m\u001b[38;5;21;01mdqn\u001b[39;00m \u001b[38;5;28;01mimport\u001b[39;00m DQN\n\u001b[1;32m      2\u001b[0m \u001b[38;5;28;01mfrom\u001b[39;00m \u001b[38;5;21;01mxai\u001b[39;00m\u001b[38;5;21;01m.\u001b[39;00m\u001b[38;5;21;01mstream\u001b[39;00m \u001b[38;5;28;01mimport\u001b[39;00m Stream\n\u001b[0;32m----> 5\u001b[0m dqn \u001b[38;5;241m=\u001b[39m \u001b[43mDQN\u001b[49m\u001b[43m(\u001b[49m\u001b[43mtranslate\u001b[49m\u001b[38;5;241;43m=\u001b[39;49m\u001b[38;5;28;43;01mTrue\u001b[39;49;00m\u001b[43m,\u001b[49m\u001b[43m \u001b[49m\u001b[43mrotate\u001b[49m\u001b[38;5;241;43m=\u001b[39;49m\u001b[38;5;28;43;01mTrue\u001b[39;49;00m\u001b[43m)\u001b[49m     \n",
      "\u001b[0;31mTypeError\u001b[0m: Can't instantiate abstract class DQN with abstract method breed"
     ]
    }
   ],
   "source": [
    "from xai.dqn import DQN\n",
    "from xai.stream import Stream\n",
    "     \n",
    "\n",
    "dqn = DQN(translate=True, rotate=True)     "
   ]
  },
  {
   "cell_type": "code",
   "execution_count": 3,
   "metadata": {},
   "outputs": [
    {
     "data": {
      "text/plain": [
       "[10, 9]"
      ]
     },
     "execution_count": 3,
     "metadata": {},
     "output_type": "execute_result"
    }
   ],
   "source": [
    "from typing import *\n",
    "\n",
    "import numpy as np\n",
    "\n",
    "class Fitness:\n",
    "\n",
    "    def __init__(self, \n",
    "                 rewards:     Dict[str,float]|None = None,\n",
    "                 penalties:   Dict[str,float]|None = None) -> None:\n",
    "        \n",
    "        if rewards is None:\n",
    "            self._named_rewards: Dict[str,float] = {}\n",
    "        else:\n",
    "            self._named_rewards = rewards.copy()\n",
    "\n",
    "        if penalties is None:\n",
    "            self._named_penalties: Dict[str,float] = {}\n",
    "        else:\n",
    "            self._named_penalties = penalties.copy()\n",
    "\n",
    "    def normalized(self, min_fitness: \"Fitness\", max_fitness: \"Fitness\") -> \"NormalizedFitness\":\n",
    "        normalized_fitness = NormalizedFitness(non_normalized=self)\n",
    "        for category,reward in self.rewards():\n",
    "            max, min = max_fitness.get_reward(category), min_fitness.get_reward(category)\n",
    "            if max - min == 0:\n",
    "                normalized_fitness.set_reward(category, 1.0)\n",
    "            else:\n",
    "                normalized_fitness.set_reward(category, (reward - min)/(max - min))\n",
    "\n",
    "        for category,penalty in self.penalties():\n",
    "            max, min = max_fitness.get_penalty(category), min_fitness.get_penalty(category)\n",
    "            if max - min == 0:\n",
    "                normalized_fitness.set_penalty(category, 1.0)\n",
    "            else:\n",
    "                normalized_fitness.set_penalty(category, (penalty - min)/(max - min))\n",
    "\n",
    "        return normalized_fitness\n",
    "\n",
    "    def __add__(self, other: \"Fitness\") -> \"Fitness\":\n",
    "        result = self.copy()\n",
    "        for category,reward in other.rewards():\n",
    "            result._named_rewards[category] = result._named_rewards.get(category, 0) + reward\n",
    "\n",
    "        for category,penalty in other.penalties():\n",
    "            result._named_penalties[category] = result._named_penalties.get(category, 0) + penalty\n",
    "\n",
    "        return result\n",
    "\n",
    "    def rewards(self) -> Iterator[Tuple[str,float]]:\n",
    "        for category,reward in self._named_rewards.items():\n",
    "            yield category,reward\n",
    "\n",
    "    def penalties(self) -> Iterator[Tuple[str,float]]:\n",
    "        for category,penalty in self._named_penalties.items():\n",
    "            yield category,penalty\n",
    "    \n",
    "    def get_reward(self, category: str) -> float:\n",
    "        return self._named_rewards.get(category, 0)\n",
    "    \n",
    "    def set_reward(self, category: str, reward: float) -> None:\n",
    "        self._named_rewards[category] = reward\n",
    "    \n",
    "    def get_penalty(self, category: str) -> float:\n",
    "        return self._named_penalties.get(category, 0)\n",
    "    \n",
    "    def set_penalty(self, category: str, penalty: float) -> None:\n",
    "        self._named_penalties[category] = penalty\n",
    "\n",
    "    def __repr__(self) -> str:\n",
    "        return str(dict(\n",
    "            rewards=self._named_rewards,\n",
    "            penalties=self._named_penalties\n",
    "        ))\n",
    "\n",
    "    def copy(self) -> \"Fitness\":\n",
    "        return Fitness(\n",
    "            rewards=self._named_rewards,\n",
    "            penalties=self._named_penalties\n",
    "        )\n",
    "\n",
    "    @staticmethod\n",
    "    def max_fitness(fitnesses: Iterable[\"Fitness\"]) -> \"Fitness\":\n",
    "        max_fitness = Fitness()\n",
    "        for fitness in fitnesses:\n",
    "            for category,reward in fitness.rewards():\n",
    "                if category in max_fitness._named_rewards:\n",
    "                    max_fitness.set_reward(category, max(max_fitness.get_reward(category), reward))\n",
    "                else:\n",
    "                    max_fitness.set_reward(category, reward)\n",
    "\n",
    "            for category,penalty in fitness.penalties():\n",
    "                if category in max_fitness._named_penalties:\n",
    "                    max_fitness.set_penalty(category, max(max_fitness.get_penalty(category), penalty))\n",
    "                else:\n",
    "                    max_fitness.set_penalty(category, penalty)\n",
    "\n",
    "        return max_fitness\n",
    "\n",
    "    @staticmethod\n",
    "    def min_fitness(fitnesses: Iterable[\"Fitness\"]) -> \"Fitness\":\n",
    "        min_fitness = Fitness()\n",
    "        for fitness in fitnesses:\n",
    "            for category,reward in fitness.rewards():\n",
    "                if category in min_fitness._named_rewards:\n",
    "                    min_fitness.set_reward(category, min(min_fitness.get_reward(category), reward))\n",
    "                else:\n",
    "                    min_fitness.set_reward(category, reward)\n",
    "\n",
    "            for category,penalty in fitness.penalties():\n",
    "                if category in min_fitness._named_penalties:\n",
    "                    min_fitness.set_penalty(category, min(min_fitness.get_penalty(category), penalty))\n",
    "                else:\n",
    "                    min_fitness.set_penalty(category, penalty)\n",
    "\n",
    "        return min_fitness\n",
    "    \n",
    "    @staticmethod\n",
    "    def normalize_all(fitnesses: Iterable[\"Fitness\"]) -> Tuple[\"NormalizedFitness\",...]:\n",
    "        fitnesses = tuple(fitnesses)\n",
    "        min_fitness = Fitness.min_fitness(fitnesses)\n",
    "        max_fitness = Fitness.max_fitness(fitnesses)\n",
    "        return tuple(fitness.normalized(min_fitness=min_fitness, max_fitness=max_fitness) for fitness in fitnesses)\n",
    "\n",
    "\n",
    "class NormalizedFitness(Fitness):\n",
    "\n",
    "    def __init__(self, \n",
    "                 non_normalized: Fitness,\n",
    "                 rewards: Dict[str, float] | None = None, \n",
    "                 penalties: Dict[str, float] | None = None) -> None:\n",
    "        super().__init__(rewards, penalties)\n",
    "        self.non_normalized = non_normalized\n",
    "\n",
    "    def rank(self) -> float:\n",
    "        reduction = 1.0\n",
    "        for _,reward in self.rewards():\n",
    "            reduction *= reward\n",
    "\n",
    "        for _,penalty in self.penalties():\n",
    "            reduction *= (1 - penalty)\n",
    "\n",
    "        return reduction\n",
    "    \n",
    "    def un_normalize(self) -> Fitness:\n",
    "        return self.non_normalized\n",
    "    \n",
    "    def __repr__(self) -> str:\n",
    "        return str({\n",
    "            \"Rank\": self.rank(),\n",
    "            \"Rewards\": tuple(self.non_normalized.rewards()),\n",
    "            \"Normalized rewards\": tuple(self.rewards()),\n",
    "            \"Penalties\": tuple(self.non_normalized.penalties()),\n",
    "            \"Normalized penalties\": tuple(self.penalties()),\n",
    "        })\n",
    "    \n",
    "from xai.stream import Stream\n",
    "x = Stream({\"Hello\": 2, \"Foo\": 9}.items())\n",
    "y = Stream({\"Hello\": 8}.items())\n",
    "    \n",
    "(x + y).group_by(lambda kv: (kv[0],kv[1]), lambda z1,z2: z1+z2).list()"
   ]
  },
  {
   "cell_type": "code",
   "execution_count": null,
   "metadata": {},
   "outputs": [],
   "source": [
    "from xai.policy import Policy\n",
    "import torch\n",
    "\n",
    "p = Policy.new(1,10)"
   ]
  },
  {
   "cell_type": "code",
   "execution_count": 102,
   "metadata": {},
   "outputs": [
    {
     "data": {
      "text/plain": [
       "tensor([-84.4875,  92.9097, -40.1360, 187.6923, -50.9625, -51.9338, -68.2660,\n",
       "         -7.5352, 116.5554,  -7.9359], grad_fn=<ViewBackward0>)"
      ]
     },
     "execution_count": 102,
     "metadata": {},
     "output_type": "execute_result"
    }
   ],
   "source": [
    "p.predict(torch.tensor([1.0]))"
   ]
  },
  {
   "cell_type": "code",
   "execution_count": 101,
   "metadata": {},
   "outputs": [],
   "source": [
    "p.mutate(1)"
   ]
  },
  {
   "cell_type": "code",
   "execution_count": 3,
   "metadata": {},
   "outputs": [
    {
     "name": "stderr",
     "output_type": "stream",
     "text": [
      "Loss: 617.420471: 100%|██████████| 400/400 [04:28<00:00,  1.49it/s] \n"
     ]
    }
   ],
   "source": [
    "dqn.train_autoencoder(\n",
    "    buffer_size=5_000,\n",
    "    time_steps=1_000,\n",
    "    episodes=1,\n",
    "    epochs=400,\n",
    "    batch_size=256\n",
    ")"
   ]
  },
  {
   "cell_type": "code",
   "execution_count": null,
   "metadata": {},
   "outputs": [],
   "source": [
    "dqn.train(\n",
    "    alpha=.1,\n",
    "    buffer_size=3_000,\n",
    "    num_episodes=10000,\n",
    "    epsilon=.99,\n",
    "    gamma=.98,\n",
    "    steps=100,\n",
    "    sample_prob=1,\n",
    "    learning_starts=0.1,\n",
    "    samples_per_train=10_000,\n",
    "    batch_size=256\n",
    ")"
   ]
  },
  {
   "cell_type": "code",
   "execution_count": null,
   "metadata": {},
   "outputs": [],
   "source": [
    "dqn.play(show=True, show_decode=True)"
   ]
  }
 ],
 "metadata": {
  "kernelspec": {
   "display_name": ".venv",
   "language": "python",
   "name": "python3"
  },
  "language_info": {
   "codemirror_mode": {
    "name": "ipython",
    "version": 3
   },
   "file_extension": ".py",
   "mimetype": "text/x-python",
   "name": "python",
   "nbconvert_exporter": "python",
   "pygments_lexer": "ipython3",
   "version": "3.11.5"
  }
 },
 "nbformat": 4,
 "nbformat_minor": 2
}
