{
 "cells": [
  {
   "cell_type": "code",
   "execution_count": 15,
   "metadata": {},
   "outputs": [
    {
     "name": "stderr",
     "output_type": "stream",
     "text": [
      "IProgress not found. Please update jupyter and ipywidgets. See https://ipywidgets.readthedocs.io/en/stable/user_install.html\n"
     ]
    },
    {
     "ename": "TypeError",
     "evalue": "Can't instantiate abstract class DQN with abstract method breed",
     "output_type": "error",
     "traceback": [
      "\u001b[0;31m---------------------------------------------------------------------------\u001b[0m",
      "\u001b[0;31mTypeError\u001b[0m                                 Traceback (most recent call last)",
      "Cell \u001b[0;32mIn[15], line 5\u001b[0m\n\u001b[1;32m      1\u001b[0m \u001b[38;5;28;01mfrom\u001b[39;00m \u001b[38;5;21;01mxai\u001b[39;00m\u001b[38;5;21;01m.\u001b[39;00m\u001b[38;5;21;01mdqn\u001b[39;00m \u001b[38;5;28;01mimport\u001b[39;00m DQN\n\u001b[1;32m      2\u001b[0m \u001b[38;5;28;01mfrom\u001b[39;00m \u001b[38;5;21;01mxai\u001b[39;00m\u001b[38;5;21;01m.\u001b[39;00m\u001b[38;5;21;01mstream\u001b[39;00m \u001b[38;5;28;01mimport\u001b[39;00m Stream\n\u001b[0;32m----> 5\u001b[0m dqn \u001b[38;5;241m=\u001b[39m \u001b[43mDQN\u001b[49m\u001b[43m(\u001b[49m\u001b[43mtranslate\u001b[49m\u001b[38;5;241;43m=\u001b[39;49m\u001b[38;5;28;43;01mTrue\u001b[39;49;00m\u001b[43m,\u001b[49m\u001b[43m \u001b[49m\u001b[43mrotate\u001b[49m\u001b[38;5;241;43m=\u001b[39;49m\u001b[38;5;28;43;01mTrue\u001b[39;49;00m\u001b[43m)\u001b[49m     \n",
      "\u001b[0;31mTypeError\u001b[0m: Can't instantiate abstract class DQN with abstract method breed"
     ]
    }
   ],
   "source": [
    "from xai.dqn import DQN\n",
    "from xai.stream import Stream\n",
    "     \n",
    "\n",
    "dqn = DQN(translate=True, rotate=True)     "
   ]
  },
  {
   "cell_type": "code",
   "execution_count": 10,
   "metadata": {},
   "outputs": [
    {
     "data": {
      "text/plain": [
       "(0.8573749999999999, 0.0, 0.0, 0.0)"
      ]
     },
     "execution_count": 10,
     "metadata": {},
     "output_type": "execute_result"
    }
   ],
   "source": [
    "from typing import *\n",
    "\n",
    "import numpy as np\n",
    "from xai.stream import Stream\n",
    "from xai.fitness import Fitness\n",
    "\n",
    "f1 = Fitness(\n",
    "    rewards={\"Foo\": 59, \"Bar\": 2},\n",
    "    \n",
    ")\n",
    "\n",
    "f2 = Fitness(\n",
    "    rewards={\"Foo\": 60, \"Bar\": 2},\n",
    "    penalties={\"Baz\": 40}\n",
    ")\n",
    "\n",
    "f3 = Fitness(\n",
    "    rewards={\"Foo\": 40}\n",
    ")\n",
    "\n",
    "f4 = Fitness(\n",
    "    rewards={\"Foo\": 40}\n",
    ")\n",
    "\n",
    "Fitness.ranks([f1,f2,f3,f4], order=3)"
   ]
  },
  {
   "cell_type": "code",
   "execution_count": 2,
   "metadata": {},
   "outputs": [
    {
     "data": {
      "text/plain": [
       "({'rewards': {'Foo': 1.0, 'Bar': 0.5}, 'penalties': {'Baz': 0.0}},\n",
       " {'rewards': {'Foo': 1.0, 'Bar': 1.0}, 'penalties': {'Baz': 1.0}},\n",
       " {'rewards': {'Foo': 0.0, 'Bar': 0.0}, 'penalties': {'Baz': 0.0}},\n",
       " {'rewards': {'Foo': 0.0, 'Bar': 0.0}, 'penalties': {'Baz': 0.0}})"
      ]
     },
     "execution_count": 2,
     "metadata": {},
     "output_type": "execute_result"
    }
   ],
   "source": [
    "Fitness.normalize([f1,f2,f3,f4]).tuple()"
   ]
  },
  {
   "cell_type": "code",
   "execution_count": null,
   "metadata": {},
   "outputs": [],
   "source": [
    "from xai.policy import Policy\n",
    "import torch\n",
    "\n",
    "p = Policy.new(1,10)"
   ]
  },
  {
   "cell_type": "code",
   "execution_count": 102,
   "metadata": {},
   "outputs": [
    {
     "data": {
      "text/plain": [
       "tensor([-84.4875,  92.9097, -40.1360, 187.6923, -50.9625, -51.9338, -68.2660,\n",
       "         -7.5352, 116.5554,  -7.9359], grad_fn=<ViewBackward0>)"
      ]
     },
     "execution_count": 102,
     "metadata": {},
     "output_type": "execute_result"
    }
   ],
   "source": [
    "p.predict(torch.tensor([1.0]))"
   ]
  },
  {
   "cell_type": "code",
   "execution_count": 101,
   "metadata": {},
   "outputs": [],
   "source": [
    "p.mutate(1)"
   ]
  },
  {
   "cell_type": "code",
   "execution_count": 3,
   "metadata": {},
   "outputs": [
    {
     "name": "stderr",
     "output_type": "stream",
     "text": [
      "Loss: 617.420471: 100%|██████████| 400/400 [04:28<00:00,  1.49it/s] \n"
     ]
    }
   ],
   "source": [
    "dqn.train_autoencoder(\n",
    "    buffer_size=5_000,\n",
    "    time_steps=1_000,\n",
    "    episodes=1,\n",
    "    epochs=400,\n",
    "    batch_size=256\n",
    ")"
   ]
  },
  {
   "cell_type": "code",
   "execution_count": null,
   "metadata": {},
   "outputs": [],
   "source": [
    "dqn.train(\n",
    "    alpha=.1,\n",
    "    buffer_size=3_000,\n",
    "    num_episodes=10000,\n",
    "    epsilon=.99,\n",
    "    gamma=.98,\n",
    "    steps=100,\n",
    "    sample_prob=1,\n",
    "    learning_starts=0.1,\n",
    "    samples_per_train=10_000,\n",
    "    batch_size=256\n",
    ")"
   ]
  },
  {
   "cell_type": "code",
   "execution_count": null,
   "metadata": {},
   "outputs": [],
   "source": [
    "dqn.play(show=True, show_decode=True)"
   ]
  }
 ],
 "metadata": {
  "kernelspec": {
   "display_name": ".venv",
   "language": "python",
   "name": "python3"
  },
  "language_info": {
   "codemirror_mode": {
    "name": "ipython",
    "version": 3
   },
   "file_extension": ".py",
   "mimetype": "text/x-python",
   "name": "python",
   "nbconvert_exporter": "python",
   "pygments_lexer": "ipython3",
   "version": "3.11.7"
  }
 },
 "nbformat": 4,
 "nbformat_minor": 2
}
