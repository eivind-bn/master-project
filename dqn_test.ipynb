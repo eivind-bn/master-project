{
 "cells": [
  {
   "cell_type": "code",
   "execution_count": null,
   "metadata": {},
   "outputs": [],
   "source": [
    "from xai.dqn import DQN\n",
    "from xai.stream import Stream\n",
    "from xai.bytes import GigaBytes\n",
    "     \n",
    "\n",
    "dqn = DQN(translate=True, rotate=True, device=\"cpu\")     "
   ]
  },
  {
   "cell_type": "code",
   "execution_count": null,
   "metadata": {},
   "outputs": [],
   "source": [
    "dqn.train(\n",
    "    num_episodes=10000,\n",
    "    update_target_frequency=10,\n",
    "    epsilon=.99,\n",
    "    gamma=.98,\n",
    "    learning_starts=0.1,\n",
    "    batch_size=32,\n",
    "    buffer_entry_size=3_000,\n",
    "    replay_buffer_memory=GigaBytes(5.0)\n",
    ")"
   ]
  },
  {
   "cell_type": "code",
   "execution_count": null,
   "metadata": {},
   "outputs": [],
   "source": [
    "dqn.play(show=True, show_decode=True)"
   ]
  },
  {
   "cell_type": "code",
   "execution_count": null,
   "metadata": {},
   "outputs": [],
   "source": [
    "import torch\n",
    "\n",
    "X = torch.zeros((1,3,210,160)).float()\n",
    "\n",
    "policy = torch.nn.Sequential(\n",
    "    torch.nn.Conv2d(in_channels=3, out_channels=8, kernel_size=(3,3), stride=(1,1)), # (102, 76)\n",
    "    torch.nn.ReLU(),\n",
    "    torch.nn.Conv2d(in_channels=8, out_channels=16, kernel_size=(5,5), stride=(2,2)), # (107, 76)\n",
    "    torch.nn.ReLU(),\n",
    "    torch.nn.Conv2d(in_channels=16, out_channels=32, kernel_size=(7,7), stride=(3,3)),\n",
    "    torch.nn.ReLU(),\n",
    "    torch.nn.Conv2d(in_channels=32, out_channels=64, kernel_size=(7,7), stride=(4,4)),\n",
    "    torch.nn.ReLU(),\n",
    "    )\n",
    "\n",
    "policy(X).shape"
   ]
  },
  {
   "cell_type": "code",
   "execution_count": null,
   "metadata": {},
   "outputs": [],
   "source": [
    "64*7*5"
   ]
  },
  {
   "cell_type": "code",
   "execution_count": null,
   "metadata": {},
   "outputs": [],
   "source": []
  }
 ],
 "metadata": {
  "kernelspec": {
   "display_name": ".venv",
   "language": "python",
   "name": "python3"
  },
  "language_info": {
   "codemirror_mode": {
    "name": "ipython",
    "version": 3
   },
   "file_extension": ".py",
   "mimetype": "text/x-python",
   "name": "python",
   "nbconvert_exporter": "python",
   "pygments_lexer": "ipython3",
   "version": "3.11.7"
  }
 },
 "nbformat": 4,
 "nbformat_minor": 2
}
