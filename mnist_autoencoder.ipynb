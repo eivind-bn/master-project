{
 "cells": [
  {
   "cell_type": "code",
   "execution_count": 15,
   "metadata": {},
   "outputs": [],
   "source": [
    "from xai.policy import *\n",
    "import mnist\n",
    "import matplotlib.pyplot as plt\n",
    "\n",
    "import torch\n",
    "import random\n",
    "import numpy as np"
   ]
  },
  {
   "cell_type": "code",
   "execution_count": 16,
   "metadata": {},
   "outputs": [
    {
     "data": {
      "text/plain": [
       "(torch.Size([60000, 28, 28]), torch.Size([60000, 10]))"
      ]
     },
     "execution_count": 16,
     "metadata": {},
     "output_type": "execute_result"
    }
   ],
   "source": [
    "images = torch.from_numpy(mnist.train_images())\n",
    "images = images.float()/255.0\n",
    "\n",
    "labels = torch.from_numpy(mnist.train_labels())\n",
    "labels_one_hot = torch.zeros((labels.shape[0],10)).float()\n",
    "labels_one_hot[torch.arange(0,labels.shape[0]),labels.int()] = 1.0\n",
    "\n",
    "images.shape, labels_one_hot.shape"
   ]
  },
  {
   "cell_type": "code",
   "execution_count": 17,
   "metadata": {},
   "outputs": [
    {
     "data": {
      "text/plain": [
       "Sequential(\n",
       "  (0): Linear(in_features=784, out_features=524, bias=True)\n",
       "  (1): ReLU()\n",
       "  (2): Linear(in_features=524, out_features=264, bias=True)\n",
       "  (3): ReLU()\n",
       "  (4): Linear(in_features=264, out_features=5, bias=True)\n",
       "  (5): Linear(in_features=5, out_features=264, bias=True)\n",
       "  (6): ReLU()\n",
       "  (7): Linear(in_features=264, out_features=524, bias=True)\n",
       "  (8): ReLU()\n",
       "  (9): Linear(in_features=524, out_features=784, bias=True)\n",
       ")"
      ]
     },
     "execution_count": 17,
     "metadata": {},
     "output_type": "execute_result"
    }
   ],
   "source": [
    "encoder = Policy.new((28,28),5)\n",
    "decoder = Policy.new(5,(28,28))\n",
    "autoencoder = encoder + decoder\n",
    "autoencoder"
   ]
  },
  {
   "cell_type": "code",
   "execution_count": 18,
   "metadata": {},
   "outputs": [
    {
     "name": "stderr",
     "output_type": "stream",
     "text": [
      "Loss: 0.020846: 100%|██████████| 10000/10000 [02:50<00:00, 58.82it/s]\n"
     ]
    }
   ],
   "source": [
    "autoencoder.adam().fit(\n",
    "    X=images,\n",
    "    Y=images,\n",
    "    steps=10000,\n",
    "    batch_size=64,\n",
    "    loss_criterion=\"MSELoss\",\n",
    "    verbose=True\n",
    ")"
   ]
  },
  {
   "cell_type": "code",
   "execution_count": 22,
   "metadata": {},
   "outputs": [
    {
     "data": {
      "text/plain": [
       "<matplotlib.image.AxesImage at 0x7fdc051acf50>"
      ]
     },
     "execution_count": 22,
     "metadata": {},
     "output_type": "execute_result"
    },
    {
     "data": {
      "image/png": "[encoded data removed]",
      "text/plain": [
       "<Figure size 1000x700 with 3 Axes>"
      ]
     },
     "metadata": {},
     "output_type": "display_data"
    }
   ],
   "source": [
    "X = images[random.randint(0,len(images))]\n",
    "feedforward = autoencoder(X)\n",
    "\n",
    "Y = feedforward.numpy()\n",
    "\n",
    "dY = feedforward.derivative(lambda t: t.sum(), order=1)\n",
    "\n",
    "fig = plt.figure(figsize=(10,7)) \n",
    "fig.add_subplot(1,3,1)\n",
    "plt.imshow(X, cmap=\"gray\") \n",
    "fig.add_subplot(1,3,2)\n",
    "plt.imshow(Y, cmap=\"gray\") \n",
    "fig.add_subplot(1,3,3)\n",
    "plt.imshow(dY, cmap=\"gray\")"
   ]
  }
 ],
 "metadata": {
  "kernelspec": {
   "display_name": ".venv",
   "language": "python",
   "name": "python3"
  },
  "language_info": {
   "codemirror_mode": {
    "name": "ipython",
    "version": 3
   },
   "file_extension": ".py",
   "mimetype": "text/x-python",
   "name": "python",
   "nbconvert_exporter": "python",
   "pygments_lexer": "ipython3",
   "version": "3.11.7"
  }
 },
 "nbformat": 4,
 "nbformat_minor": 2
}
