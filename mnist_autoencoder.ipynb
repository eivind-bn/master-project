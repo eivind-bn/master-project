{
 "cells": [
  {
   "cell_type": "code",
   "execution_count": 1,
   "metadata": {},
   "outputs": [],
   "source": [
    "from xai.policy import *\n",
    "from torchvision.datasets.mnist import MNIST\n",
    "import matplotlib.pyplot as plt\n",
    "\n",
    "import torch\n",
    "import random\n",
    "import numpy as np"
   ]
  },
  {
   "cell_type": "code",
   "execution_count": 2,
   "metadata": {},
   "outputs": [
    {
     "data": {
      "text/plain": [
       "(torch.Size([60000, 28, 28]), torch.Size([60000, 10]))"
      ]
     },
     "execution_count": 2,
     "metadata": {},
     "output_type": "execute_result"
    }
   ],
   "source": [
    "mnist = MNIST(\".\", download=True)\n",
    "images = mnist.data.float()/255.0\n",
    "\n",
    "labels = torch.zeros((mnist.data.shape[0],10)).float()\n",
    "labels[torch.arange(0,mnist.data.shape[0]),mnist.targets] = 1.0\n",
    "\n",
    "images.shape, labels.shape"
   ]
  },
  {
   "cell_type": "code",
   "execution_count": 10,
   "metadata": {},
   "outputs": [
    {
     "data": {
      "text/plain": [
       "Sequential(\n",
       "  (0): Linear(in_features=784, out_features=524, bias=True)\n",
       "  (1): ActivationModule(\n",
       "    (_activation_module): ReLU()\n",
       "  )\n",
       "  (2): Linear(in_features=524, out_features=264, bias=True)\n",
       "  (3): ActivationModule(\n",
       "    (_activation_module): ReLU()\n",
       "  )\n",
       "  (4): Linear(in_features=264, out_features=5, bias=True)\n",
       "  (5): Linear(in_features=5, out_features=264, bias=True)\n",
       "  (6): ActivationModule(\n",
       "    (_activation_module): ReLU()\n",
       "  )\n",
       "  (7): Linear(in_features=264, out_features=524, bias=True)\n",
       "  (8): ActivationModule(\n",
       "    (_activation_module): ReLU()\n",
       "  )\n",
       "  (9): Linear(in_features=524, out_features=784, bias=True)\n",
       ")"
      ]
     },
     "execution_count": 10,
     "metadata": {},
     "output_type": "execute_result"
    }
   ],
   "source": [
    "encoder = Policy.new((28,28),5, hidden_layers=2)\n",
    "decoder = Policy.new(5,(28,28), hidden_layers=2)\n",
    "autoencoder = encoder + decoder\n",
    "autoencoder"
   ]
  },
  {
   "cell_type": "code",
   "execution_count": 11,
   "metadata": {},
   "outputs": [
    {
     "name": "stderr",
     "output_type": "stream",
     "text": [
      "Loss: 0.021901: 100%|██████████| 10000/10000 [02:18<00:00, 72.00it/s]\n"
     ]
    }
   ],
   "source": [
    "autoencoder.adam().fit(\n",
    "    X=images,\n",
    "    Y=images,\n",
    "    steps=10000,\n",
    "    batch_size=64,\n",
    "    loss_criterion=\"MSELoss\",\n",
    "    verbose=True\n",
    ")"
   ]
  },
  {
   "cell_type": "code",
   "execution_count": 9,
   "metadata": {},
   "outputs": [
    {
     "data": {
      "text/plain": [
       "<matplotlib.image.AxesImage at 0x7f5ed4cdc5d0>"
      ]
     },
     "execution_count": 9,
     "metadata": {},
     "output_type": "execute_result"
    },
    {
     "data": {
      "image/png": "[encoded data removed]",
      "text/plain": [
       "<Figure size 1000x700 with 3 Axes>"
      ]
     },
     "metadata": {},
     "output_type": "display_data"
    }
   ],
   "source": [
    "X = images[random.randint(0,len(images))]\n",
    "feedforward = autoencoder(X)\n",
    "\n",
    "Y = feedforward.numpy()\n",
    "\n",
    "dY = feedforward.derivative(lambda t: t.sum(), order=1)\n",
    "\n",
    "fig = plt.figure(figsize=(10,7)) \n",
    "fig.add_subplot(1,3,1)\n",
    "plt.imshow(X, cmap=\"gray\") \n",
    "fig.add_subplot(1,3,2)\n",
    "plt.imshow(Y, cmap=\"gray\") \n",
    "fig.add_subplot(1,3,3)\n",
    "plt.imshow(dY, cmap=\"gray\")"
   ]
  }
 ],
 "metadata": {
  "kernelspec": {
   "display_name": ".venv",
   "language": "python",
   "name": "python3"
  },
  "language_info": {
   "codemirror_mode": {
    "name": "ipython",
    "version": 3
   },
   "file_extension": ".py",
   "mimetype": "text/x-python",
   "name": "python",
   "nbconvert_exporter": "python",
   "pygments_lexer": "ipython3",
   "version": "3.11.7"
  }
 },
 "nbformat": 4,
 "nbformat_minor": 2
}
