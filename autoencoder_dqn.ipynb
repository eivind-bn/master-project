{
 "cells": [
  {
   "cell_type": "code",
   "execution_count": 2,
   "metadata": {},
   "outputs": [
    {
     "name": "stderr",
     "output_type": "stream",
     "text": [
      "IProgress not found. Please update jupyter and ipywidgets. See https://ipywidgets.readthedocs.io/en/stable/user_install.html\n"
     ]
    }
   ],
   "source": [
    "from xai.dqn_autoencoder import DQN\n",
    "from xai.stream import Stream\n",
    "from xai.bytes import GigaBytes\n",
    "import torch\n",
    "import shap\n",
    "from torch import Tensor\n",
    "from xai.window import Window\n",
    "import numpy as np\n",
    "import matplotlib.pyplot as plt\n",
    "from tqdm import tqdm\n",
    "import numpy as np\n",
    "from xai.record import Recorder"
   ]
  },
  {
   "cell_type": "code",
   "execution_count": null,
   "metadata": {},
   "outputs": [],
   "source": [
    "dqn = DQN(autoencoder_path=\"autoencoder-l32.pt\",translate=True, rotate=True, device=\"cpu\") "
   ]
  },
  {
   "cell_type": "code",
   "execution_count": 3,
   "metadata": {},
   "outputs": [],
   "source": [
    "dqn = DQN.load(\"dqn-model-Copy1.pt\") "
   ]
  },
  {
   "cell_type": "code",
   "execution_count": null,
   "metadata": {},
   "outputs": [],
   "source": [
    "dqn.train(\n",
    "    total_time_steps=1_000_000,\n",
    "    replay_buffer_size=GigaBytes(8),\n",
    "    learning_rate = 1e-4,\n",
    "    learning_starts = 100,\n",
    "    batch_size = 32,\n",
    "    tau = 1.0,\n",
    "    gamma = 0.99,\n",
    "    train_frequency = 32,\n",
    "    frame_skip=4,\n",
    "    gradient_steps = 2,\n",
    "    save_path= \"./dqn-model.pt\",\n",
    "    target_update_frequency = 1000,\n",
    "    final_exploration_rate_progress = 0.03,\n",
    "    initial_exploration_rate = 1.0,\n",
    "    final_exploration_rate = 0.05,\n",
    "    verbose = True\n",
    ")"
   ]
  },
  {
   "cell_type": "code",
   "execution_count": null,
   "metadata": {},
   "outputs": [],
   "source": [
    "with Window(\"Asteroids\", 60, 4.0) as window, tqdm(total=7000) as bar:\n",
    "    for step in dqn.rollout(0.0, frame_skips=2).take(7000):\n",
    "        obs = step.observation.numpy(True)\n",
    "        translated = step.observation.translated().numpy(True)\n",
    "        rotated = step.observation.translated().rotated().numpy(True)\n",
    "        tensor = step.observation.translated().rotated().tensor(normalize=True, device=\"cuda\").unsqueeze(0)\n",
    "        decode = dqn._autoencoder(tensor).squeeze(0).numpy(force=True)\n",
    "        window(np.hstack([obs,rotated,decode])).match({\n",
    "            \"q\": lambda: window.break_window(),\n",
    "            \"p\": lambda: (\n",
    "                plt.imsave(\"images/observation.png\", obs),\n",
    "                plt.imsave(\"images/translated.png\", translated),\n",
    "                plt.imsave(\"images/rotated.png\", rotated),\n",
    "                plt.imsave(\"images/decode.png\", decode),\n",
    "                ),\n",
    "            None: lambda: None\n",
    "        })\n",
    "        bar.update()"
   ]
  },
  {
   "cell_type": "code",
   "execution_count": null,
   "metadata": {},
   "outputs": [],
   "source": [
    "from xai.dqn_autoencoder import DQN\n",
    "from xai.stream import Stream\n",
    "from xai.bytes import GigaBytes\n",
    "import torch\n",
    "import shap\n",
    "from torch import Tensor\n",
    "from xai.window import Window\n",
    "import numpy as np\n",
    "import matplotlib.pyplot as plt\n",
    "\n",
    "dqn = DQN.load(\"dqn-model-Copy1.pt\") \n",
    "number_of_frames = 6000\n",
    "encoder = dqn._encoder\n",
    "decoder = dqn._decoder\n",
    "\n",
    "def encode(tensor: Tensor) -> np.ndarray:\n",
    "    tensor = tensor.reshape((-1,210,160,3))\n",
    "    enc: Tensor = encoder(tensor)\n",
    "    return enc.numpy(force=True).reshape((-1,32))\n",
    "\n",
    "def decode(array: np.ndarray) -> np.ndarray:\n",
    "    tensor = torch.from_numpy(array).to(device=\"cuda\", dtype=torch.float32).reshape(-1,32)\n",
    "    dec: Tensor = decoder(tensor)\n",
    "    return dec.reshape((-1,210*160*3)).numpy(force=True)\n",
    "\n",
    "background = encode(torch.load(\"x_val.pt\")[:100])\n",
    "explainer = shap.PermutationExplainer(decode, masker=background)\n",
    "\n",
    "shap_values = []\n",
    "\n",
    "observations = torch.zeros((3000,210,160,3), dtype=torch.float32, device=\"cpu\")\n",
    "\n",
    "with tqdm(total=7000) as bar:\n",
    "    for i,step in dqn.rollout(0.0, frame_skips=4).enumerate().take(3000):\n",
    "        #X = step.observation.tensor(normalize=True, device=\"cuda\")\n",
    "        observations[i] = step.observation.translated().rotated().tensor(normalize=True, device=\"cpu\")\n",
    "        #shap_values.append(explainer(encode(X)).values.reshape((-1,210,160,3)))\n",
    "        bar.update()"
   ]
  },
  {
   "cell_type": "code",
   "execution_count": null,
   "metadata": {},
   "outputs": [],
   "source": [
    "torch.save(observations, \"observations.pt\")"
   ]
  },
  {
   "cell_type": "code",
   "execution_count": 5,
   "metadata": {},
   "outputs": [],
   "source": [
    "\n",
    "observations = torch.load(\"observations.pt\").cuda()"
   ]
  },
  {
   "cell_type": "code",
   "execution_count": null,
   "metadata": {},
   "outputs": [],
   "source": []
  },
  {
   "cell_type": "code",
   "execution_count": null,
   "metadata": {},
   "outputs": [],
   "source": [
    "z"
   ]
  },
  {
   "cell_type": "code",
   "execution_count": 62,
   "metadata": {},
   "outputs": [],
   "source": [
    "shap_sum = np.load(\"shap_latent_color_sum.npy\")\n",
    "norm = np.abs(shap_sum).max()\n",
    "red = np.where(shap_sum > 0, shap_sum/norm, np.zeros_like(shap_sum))\n",
    "blue = np.where(shap_sum < 0, -shap_sum/norm, np.zeros_like(shap_sum))\n",
    "images = np.zeros((shap_sum.shape[0], 210, 160, 3), dtype=np.float32)\n",
    "images[:,:,:,1] = red\n",
    "images[:,:,:,0] = blue"
   ]
  },
  {
   "cell_type": "code",
   "execution_count": 63,
   "metadata": {},
   "outputs": [
    {
     "ename": "WindowClosed",
     "evalue": "",
     "output_type": "error",
     "traceback": [
      "\u001b[0;31m---------------------------------------------------------------------------\u001b[0m",
      "\u001b[0;31mWindowClosed\u001b[0m                              Traceback (most recent call last)",
      "Cell \u001b[0;32mIn[63], line 7\u001b[0m\n\u001b[1;32m      5\u001b[0m obs \u001b[38;5;241m=\u001b[39m observation\u001b[38;5;241m.\u001b[39mnumpy(force\u001b[38;5;241m=\u001b[39m\u001b[38;5;28;01mTrue\u001b[39;00m)\n\u001b[1;32m      6\u001b[0m decode \u001b[38;5;241m=\u001b[39m decode\u001b[38;5;241m.\u001b[39mnumpy(force\u001b[38;5;241m=\u001b[39m\u001b[38;5;28;01mTrue\u001b[39;00m)\n\u001b[0;32m----> 7\u001b[0m \u001b[43mwindow\u001b[49m\u001b[43m(\u001b[49m\u001b[43mnp\u001b[49m\u001b[38;5;241;43m.\u001b[39;49m\u001b[43mhstack\u001b[49m\u001b[43m(\u001b[49m\u001b[43m[\u001b[49m\u001b[43mobs\u001b[49m\u001b[43m,\u001b[49m\u001b[43m \u001b[49m\u001b[43mdecode\u001b[49m\u001b[43m,\u001b[49m\u001b[43m \u001b[49m\u001b[43mshap_image\u001b[49m\u001b[43m]\u001b[49m\u001b[43m)\u001b[49m\u001b[43m)\u001b[49m\n",
      "File \u001b[0;32m~/master-project/xai/window.py:30\u001b[0m, in \u001b[0;36mWindowInterface.__call__\u001b[0;34m(self, image)\u001b[0m\n\u001b[1;32m     29\u001b[0m \u001b[38;5;28;01mdef\u001b[39;00m \u001b[38;5;21m__call__\u001b[39m(\u001b[38;5;28mself\u001b[39m, image: NDArray[uint8]\u001b[38;5;241m|\u001b[39m\u001b[38;5;28;01mNone\u001b[39;00m) \u001b[38;5;241m-\u001b[39m\u001b[38;5;241m>\u001b[39m Events:\n\u001b[0;32m---> 30\u001b[0m     \u001b[38;5;28;01mreturn\u001b[39;00m \u001b[38;5;28;43mself\u001b[39;49m\u001b[38;5;241;43m.\u001b[39;49m\u001b[43mupdate\u001b[49m\u001b[43m(\u001b[49m\u001b[43mimage\u001b[49m\u001b[43m)\u001b[49m\n",
      "File \u001b[0;32m~/master-project/xai/window.py:24\u001b[0m, in \u001b[0;36mWindowInterface.update\u001b[0;34m(self, image)\u001b[0m\n\u001b[1;32m     23\u001b[0m \u001b[38;5;28;01mdef\u001b[39;00m \u001b[38;5;21mupdate\u001b[39m(\u001b[38;5;28mself\u001b[39m, image: NDArray[uint8]\u001b[38;5;241m|\u001b[39m\u001b[38;5;28;01mNone\u001b[39;00m) \u001b[38;5;241m-\u001b[39m\u001b[38;5;241m>\u001b[39m Events:\n\u001b[0;32m---> 24\u001b[0m     \u001b[38;5;28;01mreturn\u001b[39;00m \u001b[38;5;28;43mself\u001b[39;49m\u001b[38;5;241;43m.\u001b[39;49m\u001b[43m_updater\u001b[49m\u001b[43m(\u001b[49m\u001b[43mimage\u001b[49m\u001b[43m)\u001b[49m\n",
      "File \u001b[0;32m~/master-project/xai/window.py:88\u001b[0m, in \u001b[0;36mWindow._update_and_poll_events\u001b[0;34m(self, image)\u001b[0m\n\u001b[1;32m     85\u001b[0m end \u001b[38;5;241m=\u001b[39m \u001b[38;5;28mself\u001b[39m\u001b[38;5;241m.\u001b[39m_next_end\n\u001b[1;32m     87\u001b[0m \u001b[38;5;28;01mif\u001b[39;00m \u001b[38;5;129;01mnot\u001b[39;00m \u001b[38;5;28mself\u001b[39m\u001b[38;5;241m.\u001b[39m_window_visible():\n\u001b[0;32m---> 88\u001b[0m     \u001b[38;5;28;01mraise\u001b[39;00m WindowClosed()\n\u001b[1;32m     90\u001b[0m \u001b[38;5;28;01mif\u001b[39;00m image \u001b[38;5;129;01mis\u001b[39;00m \u001b[38;5;129;01mnot\u001b[39;00m \u001b[38;5;28;01mNone\u001b[39;00m:\n\u001b[1;32m     91\u001b[0m     cv2\u001b[38;5;241m.\u001b[39mimshow(\u001b[38;5;28mself\u001b[39m\u001b[38;5;241m.\u001b[39m_name, image[:,:,::\u001b[38;5;241m-\u001b[39m\u001b[38;5;241m1\u001b[39m] \u001b[38;5;28;01mif\u001b[39;00m \u001b[38;5;28mself\u001b[39m\u001b[38;5;241m.\u001b[39m_flip_color_endianness \u001b[38;5;28;01melse\u001b[39;00m image)\n",
      "\u001b[0;31mWindowClosed\u001b[0m: "
     ]
    }
   ],
   "source": [
    "decodes = dqn._autoencoder(observations)\n",
    "\n",
    "with Window(\"Shap\", fps=24, scale=4.0) as window:\n",
    "    for observation, shap_image, decode in zip(observations, images, decodes):\n",
    "        obs = observation.numpy(force=True)\n",
    "        decode = decode.numpy(force=True)\n",
    "        window(np.hstack([obs, decode, shap_image]))"
   ]
  },
  {
   "cell_type": "code",
   "execution_count": 45,
   "metadata": {},
   "outputs": [
    {
     "name": "stderr",
     "output_type": "stream",
     "text": [
      "  1%|          | 35/3000 [00:00<01:02, 47.72it/s]\n"
     ]
    }
   ],
   "source": [
    "start = 125\n",
    "end = 160\n",
    "\n",
    "with Recorder(\"shap-demonstration.gif\", fps=16, scale=2.0) as recorder, tqdm(total=3000) as bar:\n",
    "    for observation, shap_image, decode in zip(observations[start:end], images[start:end], decodes[start:end]):\n",
    "        obs = observation.numpy(force=True)\n",
    "        decode = decode.numpy(force=True)\n",
    "        column = np.full((obs.shape[0],5,3), [1,1,1], dtype=np.float32)\n",
    "        recorder((np.hstack([obs, column, decode, column, shap_image])*255).astype(np.uint8))\n",
    "        bar.update()"
   ]
  },
  {
   "cell_type": "code",
   "execution_count": null,
   "metadata": {},
   "outputs": [],
   "source": []
  }
 ],
 "metadata": {
  "kernelspec": {
   "display_name": ".venv",
   "language": "python",
   "name": "python3"
  },
  "language_info": {
   "codemirror_mode": {
    "name": "ipython",
    "version": 3
   },
   "file_extension": ".py",
   "mimetype": "text/x-python",
   "name": "python",
   "nbconvert_exporter": "python",
   "pygments_lexer": "ipython3",
   "version": "3.11.5"
  }
 },
 "nbformat": 4,
 "nbformat_minor": 2
}
