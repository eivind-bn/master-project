{
 "cells": [
  {
   "cell_type": "code",
   "execution_count": 658,
   "metadata": {
    "metadata": {}
   },
   "outputs": [],
   "source": [
    "import shap\n",
    "import numpy as np\n",
    "import torch\n",
    "from tqdm import tqdm\n",
    "np.set_printoptions(formatter={'float': '{: 0.4f}'.format})"
   ]
  },
  {
   "cell_type": "code",
   "execution_count": 659,
   "metadata": {
    "metadata": {}
   },
   "outputs": [
    {
     "data": {
      "text/plain": [
       "<shap.explainers._exact.ExactExplainer at 0x7f4eab85ffd0>"
      ]
     },
     "execution_count": 659,
     "metadata": {},
     "output_type": "execute_result"
    }
   ],
   "source": [
    "i = 0\n",
    "c = np.array([\n",
    "    [3,8],\n",
    "    [0,2],\n",
    "])\n",
    "\n",
    "def f(x: np.ndarray):\n",
    "    x = x.reshape((-1,2))\n",
    "    x0,x1 = x[:,0], x[:,1]\n",
    "\n",
    "    y0 = c[0,0]*x0 + c[0,1]*x1\n",
    "    y1 =             c[1,1]*x1\n",
    "\n",
    "    y = np.column_stack((y0,y1))\n",
    "    return y\n",
    "\n",
    "def f_inv(y: np.ndarray):\n",
    "    y = y.reshape((-1,2))\n",
    "    y0,y1 = y[:,0], y[:,1]\n",
    "\n",
    "    #y0 = c[0,0]*x0 + c[0,1]*x1 <=> x0 = (y0 - c[0,1]*x1)/c[0,0]\n",
    "    #y1 =             c[1,1]*x1 <=> x1 = (y1)/c[1,1]\n",
    "\n",
    "    x1 = (y1)/c[1,1]\n",
    "    x0 = (y0 - c[0,1]*x1)/c[0,0]\n",
    "    \n",
    "\n",
    "    x = np.column_stack((x0,x1))\n",
    "    return x\n",
    "\n",
    "background = np.random.random((1000,2))\n",
    "explainer = shap.ExactExplainer(f, shap.maskers.Independent(background, len(background)))\n",
    "explainer"
   ]
  },
  {
   "cell_type": "code",
   "execution_count": 660,
   "metadata": {},
   "outputs": [
    {
     "data": {
      "text/plain": [
       "(array([ 0.0522,  0.3675]), array([[ 0.0522,  0.3675]]))"
      ]
     },
     "execution_count": 660,
     "metadata": {},
     "output_type": "execute_result"
    }
   ],
   "source": [
    "background[i], f_inv(f(background[i]))"
   ]
  },
  {
   "cell_type": "code",
   "execution_count": 661,
   "metadata": {},
   "outputs": [
    {
     "data": {
      "text/plain": [
       "<shap.explainers._exact.ExactExplainer at 0x7f4eab8abad0>"
      ]
     },
     "execution_count": 661,
     "metadata": {},
     "output_type": "execute_result"
    }
   ],
   "source": [
    "import shap.maskers\n",
    "\n",
    "\n",
    "inv_background = f(background)\n",
    "inv_explainer = shap.ExactExplainer(f_inv, shap.maskers.Independent(inv_background, len(inv_background)))\n",
    "inv_explainer"
   ]
  },
  {
   "cell_type": "markdown",
   "metadata": {},
   "source": [
    "\\begin{align}\n",
    "    \\phi^{-1}_{c,f} = g^{-1}(y_f) - E|g^{-1}(y_{i,f})| &\\Leftrightarrow \\phi^{-1}_{c,f} - g^{-1}(y_f) + E|g^{-1}(y_{i,f})| = 0 \\\\\n",
    "    \\phi_{c,f} = g(x_f) - E|g(x_{i,f})| &\\Leftrightarrow \\phi_{c,f} - g(x_f) + E|g(x_{i,f})| = 0\n",
    "\\end{align}\n",
    "\n",
    "\\begin{align}\n",
    "    \\phi^{-1}_{c,f} - g^{-1}(y_f) + E|g^{-1}(y_{i,f})| &= \\phi_{c,f} - g(x_f) + E|g(x_{i,f})|\\\\\n",
    "    &\\Leftrightarrow\\\\\n",
    "    \\phi_{c,f} &= \\phi^{-1}_{c,f} - g^{-1}(y_f) + E|g^{-1}(y_{i,f})| + g(x_f) - E|g(x_{i,f})|\n",
    "\\end{align}"
   ]
  },
  {
   "cell_type": "code",
   "execution_count": 662,
   "metadata": {},
   "outputs": [
    {
     "data": {
      "text/plain": [
       ".values =\n",
       "array([[-1.2912,  0.0000],\n",
       "       [-1.1026, -0.2757]])\n",
       "\n",
       ".base_values =\n",
       "array([ 5.4906,  1.0107])\n",
       "\n",
       ".data =\n",
       "array([ 0.0522,  0.3675])"
      ]
     },
     "execution_count": 662,
     "metadata": {},
     "output_type": "execute_result"
    }
   ],
   "source": [
    "exp: shap.Explanation = explainer(background[i:i+1])[0]\n",
    "exp_values = exp.values\n",
    "exp_base_values = exp.base_values\n",
    "exp"
   ]
  },
  {
   "cell_type": "code",
   "execution_count": 663,
   "metadata": {},
   "outputs": [
    {
     "data": {
      "text/plain": [
       ".values =\n",
       "array([[-0.7979,  0.0000],\n",
       "       [ 0.3675, -0.1378]])\n",
       "\n",
       ".base_values =\n",
       "array([ 0.4826,  0.5053])\n",
       "\n",
       ".data =\n",
       "array([ 3.0967,  0.7350])"
      ]
     },
     "execution_count": 663,
     "metadata": {},
     "output_type": "execute_result"
    }
   ],
   "source": [
    "inv_exp: shap.Explanation = inv_explainer(inv_background[i:i+1])[0]\n",
    "inv_exp_values = inv_exp.values\n",
    "inv_exp_base_values = inv_exp.base_values\n",
    "inv_exp"
   ]
  },
  {
   "cell_type": "code",
   "execution_count": 698,
   "metadata": {},
   "outputs": [
    {
     "data": {
      "text/plain": [
       "array([[-1.2912,  0.0000],\n",
       "       [-1.1026, -0.2757]])"
      ]
     },
     "execution_count": 698,
     "metadata": {},
     "output_type": "execute_result"
    }
   ],
   "source": [
    "exp.values"
   ]
  },
  {
   "cell_type": "code",
   "execution_count": 700,
   "metadata": {},
   "outputs": [
    {
     "data": {
      "text/plain": [
       "array([[-2.7614, -0.1378],\n",
       "       [-1.5959, -0.2757]])"
      ]
     },
     "execution_count": 700,
     "metadata": {},
     "output_type": "execute_result"
    }
   ],
   "source": [
    "n = (inv_exp_values - f_inv(inv_background[i:i+1]) + inv_exp_base_values + f(background[i:i+1]) - exp_base_values)\n",
    "n"
   ]
  },
  {
   "cell_type": "code",
   "execution_count": 703,
   "metadata": {},
   "outputs": [
    {
     "data": {
      "text/plain": [
       "array([[-1.9330, -0.0965],\n",
       "       [-1.1171, -0.1930]])"
      ]
     },
     "execution_count": 703,
     "metadata": {},
     "output_type": "execute_result"
    }
   ],
   "source": [
    "n*0.7"
   ]
  },
  {
   "cell_type": "code",
   "execution_count": 665,
   "metadata": {},
   "outputs": [
    {
     "name": "stderr",
     "output_type": "stream",
     "text": [
      "invalid value encountered in divide\n"
     ]
    },
    {
     "data": {
      "text/plain": [
       "array([[ 1.6181,  nan],\n",
       "       [-3.0000,  2.0000]])"
      ]
     },
     "execution_count": 665,
     "metadata": {},
     "output_type": "execute_result"
    }
   ],
   "source": [
    "exp_values/inv_exp_values"
   ]
  },
  {
   "cell_type": "code",
   "execution_count": 666,
   "metadata": {},
   "outputs": [
    {
     "data": {
      "text/plain": [
       "array([[-1.0000,  0.0000],\n",
       "       [-0.8540, -0.2135]])"
      ]
     },
     "execution_count": 666,
     "metadata": {},
     "output_type": "execute_result"
    }
   ],
   "source": [
    "exp_values / np.max(np.abs(exp_values))"
   ]
  },
  {
   "cell_type": "code",
   "execution_count": 667,
   "metadata": {},
   "outputs": [
    {
     "data": {
      "text/plain": [
       "array([[-1.0000,  0.0000],\n",
       "       [ 0.4606, -0.1727]])"
      ]
     },
     "execution_count": 667,
     "metadata": {},
     "output_type": "execute_result"
    }
   ],
   "source": [
    "inv_exp_values / np.max(np.abs(inv_exp_values))"
   ]
  },
  {
   "cell_type": "code",
   "execution_count": 668,
   "metadata": {},
   "outputs": [
    {
     "data": {
      "text/plain": [
       "(array([-2.3938, -0.2757]), array([[-2.3938, -0.2757]]))"
      ]
     },
     "execution_count": 668,
     "metadata": {},
     "output_type": "execute_result"
    }
   ],
   "source": [
    "exp_values.sum(0), f(background[i:i+1]) - exp_base_values"
   ]
  },
  {
   "cell_type": "code",
   "execution_count": 669,
   "metadata": {},
   "outputs": [
    {
     "data": {
      "text/plain": [
       "array([[ 4.1994,  1.0107],\n",
       "       [ 4.3879,  0.7350]])"
      ]
     },
     "execution_count": 669,
     "metadata": {},
     "output_type": "execute_result"
    }
   ],
   "source": [
    "exp_values + exp_base_values"
   ]
  },
  {
   "cell_type": "code",
   "execution_count": 670,
   "metadata": {},
   "outputs": [
    {
     "data": {
      "text/plain": [
       "array([[-0.3153,  0.5053],\n",
       "       [ 0.8502,  0.3675]])"
      ]
     },
     "execution_count": 670,
     "metadata": {},
     "output_type": "execute_result"
    }
   ],
   "source": [
    "inv_exp_values + inv_exp_base_values"
   ]
  },
  {
   "cell_type": "code",
   "execution_count": 671,
   "metadata": {},
   "outputs": [
    {
     "data": {
      "text/plain": [
       "array([[-0.5394,  0.0000],\n",
       "       [-0.4606, -1.0000]])"
      ]
     },
     "execution_count": 671,
     "metadata": {},
     "output_type": "execute_result"
    }
   ],
   "source": [
    "(exp_values)/np.sum(np.abs(exp_values), axis=0)"
   ]
  },
  {
   "cell_type": "code",
   "execution_count": 672,
   "metadata": {},
   "outputs": [
    {
     "data": {
      "text/plain": [
       "array([[-0.6846,  0.0000],\n",
       "       [ 0.3154, -1.0000]])"
      ]
     },
     "execution_count": 672,
     "metadata": {},
     "output_type": "execute_result"
    }
   ],
   "source": [
    "(inv_exp_values)/np.sum(np.abs(inv_exp_values), axis=0)"
   ]
  },
  {
   "cell_type": "code",
   "execution_count": 673,
   "metadata": {},
   "outputs": [
    {
     "data": {
      "text/plain": [
       "array([[-0.7979,  0.0000],\n",
       "       [ 0.3675, -0.1378]])"
      ]
     },
     "execution_count": 673,
     "metadata": {},
     "output_type": "execute_result"
    }
   ],
   "source": [
    "inv_exp_values"
   ]
  },
  {
   "cell_type": "code",
   "execution_count": 674,
   "metadata": {},
   "outputs": [
    {
     "data": {
      "text/plain": [
       "array([[ 0.5394,  0.0000],\n",
       "       [ 0.4606,  1.0000]])"
      ]
     },
     "execution_count": 674,
     "metadata": {},
     "output_type": "execute_result"
    }
   ],
   "source": [
    "exp_weights = abs(exp_values)/np.sum(abs(exp_values), axis=0)\n",
    "exp_weights"
   ]
  },
  {
   "cell_type": "code",
   "execution_count": 675,
   "metadata": {},
   "outputs": [
    {
     "data": {
      "text/plain": [
       "array([[ 0.6846,  0.0000],\n",
       "       [ 0.3154,  1.0000]])"
      ]
     },
     "execution_count": 675,
     "metadata": {},
     "output_type": "execute_result"
    }
   ],
   "source": [
    "inv_exp_weights = abs(inv_exp_values)/np.sum(abs(inv_exp_values), axis=0)\n",
    "inv_exp_weights"
   ]
  },
  {
   "cell_type": "code",
   "execution_count": 676,
   "metadata": {},
   "outputs": [
    {
     "data": {
      "text/plain": [
       ".values =\n",
       "array([[-1.2912,  0.0000],\n",
       "       [-1.1026, -0.2757]])\n",
       "\n",
       ".base_values =\n",
       "array([ 5.4906,  1.0107])\n",
       "\n",
       ".data =\n",
       "array([ 0.0522,  0.3675])"
      ]
     },
     "execution_count": 676,
     "metadata": {},
     "output_type": "execute_result"
    }
   ],
   "source": [
    "exp"
   ]
  },
  {
   "cell_type": "code",
   "execution_count": 677,
   "metadata": {},
   "outputs": [
    {
     "data": {
      "text/plain": [
       "array([[-1.2912, -0.0000],\n",
       "       [-0.1270, -0.2757]])"
      ]
     },
     "execution_count": 677,
     "metadata": {},
     "output_type": "execute_result"
    }
   ],
   "source": [
    "efficiency_range = f(background[i:i+1])[0] - np.mean(f(background), axis=0)\n",
    "\n",
    "exp_weights*efficiency_range.reshape((-1,1))"
   ]
  },
  {
   "cell_type": "code",
   "execution_count": null,
   "metadata": {},
   "outputs": [],
   "source": []
  }
 ],
 "metadata": {
  "kernelspec": {
   "display_name": "Python 3",
   "language": "python",
   "name": "python3"
  },
  "language_info": {
   "codemirror_mode": {
    "name": "ipython",
    "version": 3
   },
   "file_extension": ".py",
   "mimetype": "text/x-python",
   "name": "python",
   "nbconvert_exporter": "python",
   "pygments_lexer": "ipython3",
   "version": "3.11.5"
  }
 },
 "nbformat": 4,
 "nbformat_minor": 2
}
