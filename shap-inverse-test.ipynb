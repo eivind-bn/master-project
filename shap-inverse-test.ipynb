{
 "cells": [
  {
   "cell_type": "code",
   "execution_count": 2,
   "metadata": {
    "metadata": {}
   },
   "outputs": [],
   "source": [
    "import shap\n",
    "import numpy as np\n",
    "import torch\n",
    "from tqdm import tqdm\n",
    "np.set_printoptions(formatter={'float': '{: 0.4f}'.format})"
   ]
  },
  {
   "cell_type": "code",
   "execution_count": 101,
   "metadata": {
    "metadata": {}
   },
   "outputs": [
    {
     "data": {
      "text/plain": [
       "<shap.explainers._exact.ExactExplainer at 0x7e2d6a3833d0>"
      ]
     },
     "execution_count": 101,
     "metadata": {},
     "output_type": "execute_result"
    }
   ],
   "source": [
    "i = 0\n",
    "c = np.array([\n",
    "    [2,0,0],\n",
    "    [0,80,0],\n",
    "    [0,0,70]\n",
    "])\n",
    "\n",
    "def f(x: np.ndarray):\n",
    "    x = x.reshape((-1,3))\n",
    "    x0,x1,x2 = x[:,0], x[:,1], x[:,2]\n",
    "\n",
    "    y0 = c[0,0]*x0 + c[0,1]*x1 + c[0,2]*x2\n",
    "    y1 =             c[1,1]*x1 + c[1,2]*x2\n",
    "    y2 =                         c[2,2]*x2\n",
    "    return np.column_stack((y0,y1,y2))\n",
    "\n",
    "def f_inv(y: np.ndarray):\n",
    "    y = y.reshape((-1,3))\n",
    "    y0,y1,y2 = y[:,0], y[:,1], y[:,2]\n",
    "\n",
    "    #y0 = c[0,0]*x0 + c[0,1]*x1 + c[0,2]*x2 <=> x0 = (y0 - c[0,1]*x1 - c[0,2]*x2)/c[0,0]\n",
    "    #y1 =             c[1,1]*x1 + c[1,2]*x2 <=> x1 = (y1 - c[1,2]*x2)/c[1,1]\n",
    "    #y2 =                         c[2,2]*x2 <=> x2 = (y2)/c[2,2]\n",
    "\n",
    "    x2 = (y2)/c[2,2]\n",
    "    x1 = (y1 - c[1,2]*x2)/c[1,1]\n",
    "    x0 = (y0 - c[0,1]*x1 - c[0,2]*x2)/c[0,0]\n",
    "\n",
    "    return np.column_stack((x0,x1,x2))\n",
    "\n",
    "background = np.random.random((1000,3))\n",
    "explainer = shap.ExactExplainer(f, shap.maskers.Independent(background, len(background)))\n",
    "explainer"
   ]
  },
  {
   "cell_type": "code",
   "execution_count": 102,
   "metadata": {},
   "outputs": [
    {
     "data": {
      "text/plain": [
       "(array([ 0.2677,  0.2396,  0.5502]), array([[ 0.2677,  0.2396,  0.5502]]))"
      ]
     },
     "execution_count": 102,
     "metadata": {},
     "output_type": "execute_result"
    }
   ],
   "source": [
    "background[i], f_inv(f(background[i]))"
   ]
  },
  {
   "cell_type": "code",
   "execution_count": 103,
   "metadata": {},
   "outputs": [
    {
     "data": {
      "text/plain": [
       "<shap.explainers._exact.ExactExplainer at 0x7e2d6a3827a0>"
      ]
     },
     "execution_count": 103,
     "metadata": {},
     "output_type": "execute_result"
    }
   ],
   "source": [
    "import shap.maskers\n",
    "\n",
    "\n",
    "inv_background = np.random.random((1000,3))\n",
    "inv_explainer = shap.ExactExplainer(f_inv, shap.maskers.Independent(inv_background, len(inv_background)))\n",
    "inv_explainer"
   ]
  },
  {
   "cell_type": "code",
   "execution_count": 104,
   "metadata": {},
   "outputs": [
    {
     "data": {
      "text/plain": [
       ".values =\n",
       "array([[-0.4564,  0.0000, -0.0000],\n",
       "       [ 0.0000, -20.5554,  0.0000],\n",
       "       [ 0.0000,  0.0000,  3.4384]])\n",
       "\n",
       ".base_values =\n",
       "array([ 0.9918,  39.7222,  35.0742])\n",
       "\n",
       ".data =\n",
       "array([ 0.2677,  0.2396,  0.5502])"
      ]
     },
     "execution_count": 104,
     "metadata": {},
     "output_type": "execute_result"
    }
   ],
   "source": [
    "exp: shap.Explanation = explainer(background[i:i+1])[0]\n",
    "exp_values = exp.values\n",
    "exp_base_values = exp.base_values\n",
    "exp"
   ]
  },
  {
   "cell_type": "code",
   "execution_count": 105,
   "metadata": {},
   "outputs": [
    {
     "data": {
      "text/plain": [
       ".values =\n",
       "array([[ 0.1495, -0.0000,  0.0000],\n",
       "       [-0.0000,  0.0058,  0.0000],\n",
       "       [ 0.0000,  0.0000,  0.0012]])\n",
       "\n",
       ".base_values =\n",
       "array([ 0.2452,  0.0064,  0.0071])\n",
       "\n",
       ".data =\n",
       "array([ 0.7894,  0.9746,  0.5758])"
      ]
     },
     "execution_count": 105,
     "metadata": {},
     "output_type": "execute_result"
    }
   ],
   "source": [
    "inv_exp: shap.Explanation = inv_explainer(inv_background[i:i+1])[0]\n",
    "inv_exp_values = inv_exp.values\n",
    "inv_exp_base_values = inv_exp.base_values\n",
    "inv_exp"
   ]
  },
  {
   "cell_type": "code",
   "execution_count": 111,
   "metadata": {},
   "outputs": [
    {
     "data": {
      "text/plain": [
       "array([[ 0.1495, -0.0000,  0.0000],\n",
       "       [-0.0000,  0.0058,  0.0000],\n",
       "       [ 0.0000,  0.0000,  0.0012]])"
      ]
     },
     "execution_count": 111,
     "metadata": {},
     "output_type": "execute_result"
    }
   ],
   "source": [
    "inv_exp_values"
   ]
  },
  {
   "cell_type": "code",
   "execution_count": 112,
   "metadata": {},
   "outputs": [
    {
     "data": {
      "text/plain": [
       "array([[ 0.0061,  0.0000,  0.0000],\n",
       "       [ 0.0000,  0.3722,  0.0000],\n",
       "       [ 0.0000,  0.0000,  0.0434]])"
      ]
     },
     "execution_count": 112,
     "metadata": {},
     "output_type": "execute_result"
    }
   ],
   "source": [
    "exp_weights = abs(exp_values)/np.sum(abs(exp_values + exp_base_values), axis=1)\n",
    "exp_weights"
   ]
  },
  {
   "cell_type": "code",
   "execution_count": 113,
   "metadata": {},
   "outputs": [
    {
     "data": {
      "text/plain": [
       "array([[ 0.3662,  0.0000,  0.0000],\n",
       "       [ 0.0000,  0.0218,  0.0000],\n",
       "       [ 0.0000,  0.0000,  0.0045]])"
      ]
     },
     "execution_count": 113,
     "metadata": {},
     "output_type": "execute_result"
    }
   ],
   "source": [
    "inv_exp_weights = abs(inv_exp_values)/np.sum(abs(inv_exp_values + inv_exp_base_values), axis=1)\n",
    "inv_exp_weights"
   ]
  },
  {
   "cell_type": "code",
   "execution_count": 114,
   "metadata": {},
   "outputs": [
    {
     "data": {
      "text/plain": [
       ".values =\n",
       "array([[-0.4564,  0.0000, -0.0000],\n",
       "       [ 0.0000, -20.5554,  0.0000],\n",
       "       [ 0.0000,  0.0000,  3.4384]])\n",
       "\n",
       ".base_values =\n",
       "array([ 0.9918,  39.7222,  35.0742])\n",
       "\n",
       ".data =\n",
       "array([ 0.2677,  0.2396,  0.5502])"
      ]
     },
     "execution_count": 114,
     "metadata": {},
     "output_type": "execute_result"
    }
   ],
   "source": [
    "exp"
   ]
  },
  {
   "cell_type": "code",
   "execution_count": 115,
   "metadata": {},
   "outputs": [
    {
     "data": {
      "text/plain": [
       "array([[-0.0028, -0.0000, -0.0000],\n",
       "       [-0.0000, -7.6499, -0.0000],\n",
       "       [ 0.0000,  0.0000,  0.1492]])"
      ]
     },
     "execution_count": 115,
     "metadata": {},
     "output_type": "execute_result"
    }
   ],
   "source": [
    "efficiency_range = f(background[i:i+1])[0] - np.mean(f(background), axis=0)\n",
    "\n",
    "exp_weights*efficiency_range.reshape((-1,1))"
   ]
  },
  {
   "cell_type": "code",
   "execution_count": null,
   "metadata": {},
   "outputs": [],
   "source": []
  }
 ],
 "metadata": {
  "kernelspec": {
   "display_name": "Python 3",
   "language": "python",
   "name": "python3"
  },
  "language_info": {
   "codemirror_mode": {
    "name": "ipython",
    "version": 3
   },
   "file_extension": ".py",
   "mimetype": "text/x-python",
   "name": "python",
   "nbconvert_exporter": "python",
   "pygments_lexer": "ipython3",
   "version": "3.10.12"
  }
 },
 "nbformat": 4,
 "nbformat_minor": 2
}
