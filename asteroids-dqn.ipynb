{
 "cells": [
  {
   "cell_type": "code",
   "execution_count": null,
   "metadata": {},
   "outputs": [],
   "source": [
    "from xai import *\n",
    "import torch\n",
    "import numpy as np\n",
    "from collections import deque\n",
    "import matplotlib.pyplot as plt"
   ]
  },
  {
   "cell_type": "code",
   "execution_count": null,
   "metadata": {},
   "outputs": [],
   "source": [
    "device = \"cuda\"\n",
    "\n",
    "try:\n",
    "    dqn = DQN.load(\"dqn-model.pt\", device=device)\n",
    "except FileNotFoundError:\n",
    "    print(\"Creating new agent...\")\n",
    "    dqn = DQN(autoencoder_path=\"asteroids-autoencoder-l32.pt\", translate=True, rotate=True, device=device) "
   ]
  },
  {
   "cell_type": "code",
   "execution_count": null,
   "metadata": {},
   "outputs": [],
   "source": [
    "dqn.train(\n",
    "    total_time_steps=1_000_000,\n",
    "    replay_buffer_size=int(5e6),\n",
    "    learning_rate = 1e-4,\n",
    "    learning_starts = 6500,\n",
    "    batch_size = 64,\n",
    "    tau = 1.0,\n",
    "    gamma = 0.99,\n",
    "    train_frequency = 64,\n",
    "    frame_skip=4,\n",
    "    gradient_steps = 1,\n",
    "    episode_save_freq= 10,\n",
    "    target_update_frequency = 2000,\n",
    "    final_exploration_rate_progress = 0.3,\n",
    "    initial_exploration_rate = 0.6,\n",
    "    final_exploration_rate = 0.05,\n",
    "    verbose = True,\n",
    "    save_path=\"dqn-model.pt\",\n",
    "    q_value_head_background_path=\"states.npy\"\n",
    ")"
   ]
  },
  {
   "cell_type": "code",
   "execution_count": null,
   "metadata": {},
   "outputs": [],
   "source": [
    "with Window(\"Asteroids\", 60, 4.0) as window:\n",
    "    for step in dqn.rollout(0.4, 4).take(50000):\n",
    "        window(step.observation.numpy(False))"
   ]
  },
  {
   "cell_type": "code",
   "execution_count": null,
   "metadata": {},
   "outputs": [],
   "source": [
    "plt.plot(range(len(dqn.rewards_per_episode)), dqn.rewards_per_episode, label=\"Total reward\")\n",
    "plt.plot(range(len(dqn.exploration_rate_per_episode)), dqn.exploration_rate_per_episode, label=\"Exploration rate\")\n",
    "plt.legend()"
   ]
  },
  {
   "cell_type": "code",
   "execution_count": null,
   "metadata": {},
   "outputs": [],
   "source": [
    "plt.plot(range(len(dqn.rewards_per_episode)), dqn.rewards_per_episode)"
   ]
  },
  {
   "cell_type": "code",
   "execution_count": null,
   "metadata": {},
   "outputs": [],
   "source": [
    "with Window(\"Asteroids\", 60, 4.0) as window:\n",
    "    obs_background = dqn._autoencoder.encoder(torch.load(\"observations.pt\")).output()\n",
    "    state_background = torch.from_numpy(np.load(\"states.npy\"))\n",
    "\n",
    "    for step in dqn.rollout(0.6, frame_skips=4).take(3000).monitor(\"Frame:\", expected_length=3000):\n",
    "        obs = step.observation.translated().rotated()\n",
    "        reconstruction = dqn._autoencoder(obs.numpy(True)).output().numpy(force=True)\n",
    "        reconstruction = (reconstruction*255).astype(np.uint8)\n",
    "\n",
    "        shap_values = step.explain_eap(\n",
    "            algorithm=\"permutation\",\n",
    "            decoder_background=obs_background[:5],\n",
    "            q_background=state_background[:5]\n",
    "        ).shap_values.sum(0)\n",
    "\n",
    "        norm = np.max(np.abs(shap_values))\n",
    "        im = np.zeros((210,160,3), dtype=np.uint8)\n",
    "        black = np.zeros_like(shap_values)\n",
    "        red = np.where(shap_values > 0, shap_values/norm, black)\n",
    "        blue = np.where(shap_values < 0, -shap_values/norm, black)\n",
    "        im[:,:,0] = (red*255).astype(np.uint8)\n",
    "        im[:,:,2] = (blue*255).astype(np.uint8)\n",
    "        #print(q_values)\n",
    "        window(np.hstack([obs.numpy(False), reconstruction, im]))"
   ]
  },
  {
   "cell_type": "code",
   "execution_count": null,
   "metadata": {},
   "outputs": [],
   "source": [
    "videos = {}\n",
    "\n",
    "obs_background = dqn._autoencoder.encoder(torch.load(\"observations.pt\")).output()\n",
    "state_background = torch.from_numpy(np.load(\"states.npy\"))\n",
    "\n",
    "for step in dqn.rollout(0.7, frame_skips=4).take(240).monitor(\"Frame:\", expected_length=3000):\n",
    "    obs = step.observation.numpy(True)\n",
    "    videos.setdefault(\"Original\", []).append(step.observation.numpy(False))\n",
    "    videos.setdefault(\"Affine\", []).append(step.observation.translated().rotated().numpy(False))\n",
    "\n",
    "    shap_values = step.explain_eap(\n",
    "        \"permutation\",\n",
    "        decoder_background=obs_background[:50],\n",
    "        q_background=state_background[:50]\n",
    "    ).shap_values\n",
    "    shap_sum = shap_values.sum(0)\n",
    "\n",
    "    norm = max([np.max(np.abs(shap_values)), np.max(np.abs(shap_sum))])\n",
    "\n",
    "    for i,action_explanation in enumerate(shap_values):\n",
    "        im = np.zeros((210,160,3), dtype=np.uint8)\n",
    "        black = np.zeros_like(action_explanation)\n",
    "        red = np.where(action_explanation > 0, action_explanation/norm, black)\n",
    "        blue = np.where(action_explanation < 0, -action_explanation/norm, black)\n",
    "        im[:,:,0] = (red*255).astype(np.uint8)\n",
    "        im[:,:,2] = (blue*255).astype(np.uint8)\n",
    "        videos.setdefault(i, []).append(im)\n",
    "\n",
    "    im = np.zeros((210,160,3), dtype=np.uint8)\n",
    "    black = np.zeros_like(shap_sum)\n",
    "    red = np.where(shap_sum > 0, shap_sum/norm, black)\n",
    "    blue = np.where(shap_sum < 0, -shap_sum/norm, black)\n",
    "    im[:,:,0] = (red*255).astype(np.uint8)\n",
    "    im[:,:,2] = (blue*255).astype(np.uint8)\n",
    "    videos.setdefault(\"Sum\", []).append(im)\n",
    "\n",
    "        \n",
    "\n",
    "            "
   ]
  },
  {
   "cell_type": "code",
   "execution_count": null,
   "metadata": {},
   "outputs": [],
   "source": [
    "id_to_action = {\n",
    "    0: \"Noop.mp4\",\n",
    "    1: \"Up.mp4\",\n",
    "    2: \"Left.mp4\",\n",
    "    3: \"Right.mp4\",\n",
    "    4: \"Fire.mp4\"\n",
    "}\n",
    "\n",
    "for i,name in id_to_action.items():\n",
    "    with Recorder(f\"Videos/DQN-EAP-SHAP/{name}\", fps=24, scale=4) as recorder:\n",
    "        for frame in videos[i]:\n",
    "            recorder(frame)\n",
    "\n",
    "with Recorder(\"Videos/DQN-EAP-SHAP/Original.mp4\", fps=24, scale=4) as recorder:\n",
    "    for frame in videos[\"Original\"]:\n",
    "        recorder(frame)\n",
    "\n",
    "with Recorder(\"Videos/DQN-EAP-SHAP/Affine.mp4\", fps=24, scale=4) as recorder:\n",
    "    for frame in videos[\"Affine\"]:\n",
    "        recorder(frame)\n",
    "\n",
    "with Recorder(\"Videos/DQN-EAP-SHAP/Sum.mp4\", fps=24, scale=4) as recorder:\n",
    "    for frame in videos[\"Sum\"]:\n",
    "        recorder(frame)\n",
    "\n",
    "with Recorder(\"Videos/DQN-EAP-SHAP/Combined.mp4\", fps=24, scale=3) as recorder:\n",
    "    for frames in np.moveaxis(np.array(list(videos.values())),1,0):\n",
    "        recorder(np.hstack(frames))"
   ]
  },
  {
   "cell_type": "code",
   "execution_count": null,
   "metadata": {},
   "outputs": [],
   "source": [
    "with Window(\"Asteroids\", 60, 4.0) as window:\n",
    "    for i,step in dqn.rollout(0.7, frame_skips=4).take(3000).enumerate():\n",
    "        window(step.observation.numpy(False))"
   ]
  },
  {
   "cell_type": "code",
   "execution_count": null,
   "metadata": {},
   "outputs": [],
   "source": []
  }
 ],
 "metadata": {
  "kernelspec": {
   "display_name": ".venv",
   "language": "python",
   "name": "python3"
  },
  "language_info": {
   "codemirror_mode": {
    "name": "ipython",
    "version": 3
   },
   "file_extension": ".py",
   "mimetype": "text/x-python",
   "name": "python",
   "nbconvert_exporter": "python",
   "pygments_lexer": "ipython3",
   "version": "3.11.5"
  }
 },
 "nbformat": 4,
 "nbformat_minor": 2
}
