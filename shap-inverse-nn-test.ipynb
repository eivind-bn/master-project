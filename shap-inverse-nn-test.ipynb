{
 "cells": [
  {
   "cell_type": "code",
   "execution_count": 1,
   "metadata": {},
   "outputs": [],
   "source": [
    "import shap\n",
    "import numpy as np\n",
    "import torch\n",
    "from tqdm import tqdm\n",
    "np.set_printoptions(formatter={'float': '{: 0.4f}'.format})"
   ]
  },
  {
   "cell_type": "code",
   "execution_count": 2,
   "metadata": {},
   "outputs": [],
   "source": [
    "encoder = torch.nn.Sequential(\n",
    "    torch.nn.Linear(3,5),\n",
    "    torch.nn.ReLU(),\n",
    "    torch.nn.Linear(5,5),\n",
    "    torch.nn.ReLU(),\n",
    "    torch.nn.Linear(5,1),\n",
    ")\n",
    "\n",
    "decoder = torch.nn.Sequential(\n",
    "    torch.nn.Linear(1,5),\n",
    "    torch.nn.ReLU(),\n",
    "    torch.nn.Linear(5,5),\n",
    "    torch.nn.ReLU(),\n",
    "    torch.nn.Linear(5,3)\n",
    ")\n",
    "\n",
    "optim = torch.optim.Adam((encoder + decoder).parameters())"
   ]
  },
  {
   "cell_type": "code",
   "execution_count": 3,
   "metadata": {},
   "outputs": [],
   "source": [
    "X = torch.zeros((10_000,3), dtype=torch.float32, device=\"cpu\")\n",
    "X[:,0] = torch.rand((10_000,))\n",
    "X[:,1] = X[:,0]*2\n",
    "X[:,2] = X[:,1]*4"
   ]
  },
  {
   "cell_type": "code",
   "execution_count": 4,
   "metadata": {},
   "outputs": [
    {
     "name": "stderr",
     "output_type": "stream",
     "text": [
      "Loss: 8.44404:   0%|          | 0/10000 [00:00<?, ?it/s]CUDA initialization: The NVIDIA driver on your system is too old (found version 11040). Please update your GPU driver by downloading and installing a new version from the URL: http://www.nvidia.com/Download/index.aspx Alternatively, go to: https://pytorch.org to install a PyTorch version that has been compiled with your version of the CUDA driver. (Triggered internally at ../c10/cuda/CUDAFunctions.cpp:108.)\n",
      "Loss: 0.00000: 100%|██████████| 10000/10000 [00:28<00:00, 348.92it/s]\n"
     ]
    }
   ],
   "source": [
    "bar = tqdm(range(10000))\n",
    "for epoch in bar:\n",
    "    optim.zero_grad()\n",
    "    x = X[torch.randperm(len(X), device=\"cpu\")[:1000]]\n",
    "    x_hat: torch.Tensor = (encoder + decoder)(x)\n",
    "    loss: torch.Tensor = torch.mean((x_hat - x)**2)\n",
    "    bar.set_description(f\"Loss: {loss:.5f}\")\n",
    "    loss.backward()\n",
    "    optim.step()"
   ]
  },
  {
   "cell_type": "code",
   "execution_count": 5,
   "metadata": {},
   "outputs": [
    {
     "data": {
      "text/plain": [
       "(tensor([[0.5643, 1.1285, 4.5141]]),\n",
       " tensor([[-7.3975]], grad_fn=<AddmmBackward0>),\n",
       " tensor([[0.5641, 1.1282, 4.5137]], grad_fn=<AddmmBackward0>))"
      ]
     },
     "execution_count": 5,
     "metadata": {},
     "output_type": "execute_result"
    }
   ],
   "source": [
    "idx = torch.randint(0,len(X),(1,))\n",
    "X[idx], encoder(X[idx]), decoder(encoder(X[idx]))"
   ]
  },
  {
   "cell_type": "code",
   "execution_count": 6,
   "metadata": {},
   "outputs": [],
   "source": [
    "import shap.maskers\n",
    "\n",
    "\n",
    "def f(x):\n",
    "    with torch.no_grad():\n",
    "        if isinstance(x, np.ndarray):\n",
    "            x = torch.from_numpy(x).float()\n",
    "            return encoder(x).numpy(force=True)\n",
    "        else:\n",
    "            return encoder(x).numpy(force=True)\n",
    "        \n",
    "explainer = shap.ExactExplainer(f, shap.maskers.Independent(X.numpy(force=True), 1000))\n",
    "\n",
    "def f_inv(x):\n",
    "    with torch.no_grad():\n",
    "        if isinstance(x, np.ndarray):\n",
    "            x = torch.from_numpy(x).float()\n",
    "            return decoder(x).numpy(force=True)\n",
    "        else:\n",
    "            return decoder(x).numpy(force=True)\n",
    "        \n",
    "explainer_inv = shap.ExactExplainer(f_inv, shap.maskers.Independent(encoder(X).numpy(force=True), 1000))"
   ]
  },
  {
   "cell_type": "code",
   "execution_count": 7,
   "metadata": {},
   "outputs": [
    {
     "data": {
      "text/plain": [
       ".values =\n",
       "array([-0.0691, -0.0207, -0.8062])\n",
       "\n",
       ".base_values =\n",
       "array([-6.5015])\n",
       "\n",
       ".data =\n",
       "array([ 0.5643,  1.1285,  4.5141], dtype=float32)"
      ]
     },
     "execution_count": 7,
     "metadata": {},
     "output_type": "execute_result"
    }
   ],
   "source": [
    "exp: shap.Explanation = explainer(X[idx:idx+1].numpy())[0]\n",
    "exp_values = exp.values\n",
    "exp_base_values = exp.base_values\n",
    "exp"
   ]
  },
  {
   "cell_type": "code",
   "execution_count": 8,
   "metadata": {},
   "outputs": [
    {
     "data": {
      "text/plain": [
       ".values =\n",
       "array([ 0.0644,  0.1287,  0.5150])\n",
       "\n",
       ".base_values =\n",
       "array([ 0.4997,  0.9994,  3.9987])\n",
       "\n",
       ".data =\n",
       "-7.397464"
      ]
     },
     "execution_count": 8,
     "metadata": {},
     "output_type": "execute_result"
    }
   ],
   "source": [
    "inv_exp: shap.Explanation = explainer_inv(encoder(X[idx:idx+1]).numpy(force=True))[0][0]\n",
    "inv_exp_values = inv_exp.values\n",
    "inv_exp_base_values = inv_exp.base_values\n",
    "inv_exp"
   ]
  },
  {
   "cell_type": "code",
   "execution_count": 9,
   "metadata": {},
   "outputs": [
    {
     "data": {
      "text/plain": [
       "array([-6.5706, -6.5222, -7.3077])"
      ]
     },
     "execution_count": 9,
     "metadata": {},
     "output_type": "execute_result"
    }
   ],
   "source": [
    "exp_values + exp_base_values"
   ]
  },
  {
   "cell_type": "code",
   "execution_count": 10,
   "metadata": {},
   "outputs": [
    {
     "data": {
      "text/plain": [
       "array([ 0.5641,  1.1282,  4.5137])"
      ]
     },
     "execution_count": 10,
     "metadata": {},
     "output_type": "execute_result"
    }
   ],
   "source": [
    "inv_exp_values + inv_exp_base_values"
   ]
  },
  {
   "cell_type": "code",
   "execution_count": 13,
   "metadata": {},
   "outputs": [
    {
     "data": {
      "text/plain": [
       "array([ 0.3221,  0.3197,  0.3582])"
      ]
     },
     "execution_count": 13,
     "metadata": {},
     "output_type": "execute_result"
    }
   ],
   "source": [
    "abs(exp_values + exp_base_values)/sum(abs(exp_values + exp_base_values))"
   ]
  },
  {
   "cell_type": "code",
   "execution_count": 14,
   "metadata": {},
   "outputs": [
    {
     "data": {
      "text/plain": [
       "array([ 0.0909,  0.1818,  0.7273])"
      ]
     },
     "execution_count": 14,
     "metadata": {},
     "output_type": "execute_result"
    }
   ],
   "source": [
    "abs(inv_exp_values + inv_exp_base_values)/sum(abs(inv_exp_values + inv_exp_base_values))"
   ]
  },
  {
   "cell_type": "code",
   "execution_count": null,
   "metadata": {},
   "outputs": [],
   "source": []
  }
 ],
 "metadata": {
  "kernelspec": {
   "display_name": "Python 3",
   "language": "python",
   "name": "python3"
  },
  "language_info": {
   "codemirror_mode": {
    "name": "ipython",
    "version": 3
   },
   "file_extension": ".py",
   "mimetype": "text/x-python",
   "name": "python",
   "nbconvert_exporter": "python",
   "pygments_lexer": "ipython3",
   "version": "3.10.12"
  }
 },
 "nbformat": 4,
 "nbformat_minor": 2
}
