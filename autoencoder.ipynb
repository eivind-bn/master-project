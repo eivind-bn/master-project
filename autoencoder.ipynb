{
 "cells": [
  {
   "cell_type": "code",
   "execution_count": null,
   "metadata": {},
   "outputs": [],
   "source": [
    "from typing import *\n",
    "from xai.genome import Genome\n",
    "from xai.policy import Policy\n",
    "from xai.asteroids import Asteroids\n",
    "from xai.bytes import GigaBytes\n",
    "from xai.asteroids import Asteroids\n",
    "import matplotlib.pyplot as plt"
   ]
  },
  {
   "cell_type": "code",
   "execution_count": 1,
   "metadata": {},
   "outputs": [
    {
     "ename": "NameError",
     "evalue": "name 'Genome' is not defined",
     "output_type": "error",
     "traceback": [
      "\u001b[0;31m---------------------------------------------------------------------------\u001b[0m",
      "\u001b[0;31mNameError\u001b[0m                                 Traceback (most recent call last)",
      "Cell \u001b[0;32mIn[1], line 4\u001b[0m\n\u001b[1;32m      1\u001b[0m \u001b[38;5;28;01mimport\u001b[39;00m \u001b[38;5;21;01mtorch\u001b[39;00m\n\u001b[1;32m      2\u001b[0m torch\u001b[38;5;241m.\u001b[39mnn\u001b[38;5;241m.\u001b[39mDropout()\n\u001b[0;32m----> 4\u001b[0m genome \u001b[38;5;241m=\u001b[39m \u001b[43mGenome\u001b[49m(\n\u001b[1;32m      5\u001b[0m     translate\u001b[38;5;241m=\u001b[39m\u001b[38;5;28;01mTrue\u001b[39;00m,\n\u001b[1;32m      6\u001b[0m     rotate\u001b[38;5;241m=\u001b[39m\u001b[38;5;28;01mTrue\u001b[39;00m,\n\u001b[1;32m      7\u001b[0m     volatility\u001b[38;5;241m=\u001b[39m\u001b[38;5;241m1.0\u001b[39m,\n\u001b[1;32m      8\u001b[0m )\n\u001b[1;32m     10\u001b[0m population \u001b[38;5;241m=\u001b[39m genome\u001b[38;5;241m.\u001b[39mpopulate(\u001b[38;5;241m10\u001b[39m, GigaBytes(\u001b[38;5;241m10\u001b[39m), verbose\u001b[38;5;241m=\u001b[39m\u001b[38;5;28;01mTrue\u001b[39;00m)\n",
      "\u001b[0;31mNameError\u001b[0m: name 'Genome' is not defined"
     ]
    }
   ],
   "source": [
    "import torch\n",
    "\n",
    "\n",
    "genome = Genome(\n",
    "    translate=True,\n",
    "    rotate=True,\n",
    "    volatility=1.0,\n",
    ")\n",
    "\n",
    "population = genome.populate(10, GigaBytes(10), verbose=True)\n"
   ]
  },
  {
   "cell_type": "code",
   "execution_count": null,
   "metadata": {},
   "outputs": [],
   "source": [
    "population.evolve(\n",
    "    generations=10,\n",
    "    survivors_cnt=1,\n",
    "    elites_cnt=0,\n",
    "    roulettes_cnt=90,\n",
    "    random_cnt=0,\n",
    "    checkpoints_directory=\"test\",\n",
    "    number_of_processes=2\n",
    ")"
   ]
  },
  {
   "cell_type": "code",
   "execution_count": null,
   "metadata": {},
   "outputs": [],
   "source": [
    "with population._genome_pool[0] as genome:\n",
    "    autoencoder = genome.autoencoder"
   ]
  },
  {
   "cell_type": "code",
   "execution_count": null,
   "metadata": {},
   "outputs": [],
   "source": [
    "env = Asteroids()\n",
    "observation, rewards = env.reset()\n",
    "\n",
    "decode = autoencoder.predict(observation.translated().rotated().tensor(True, \"auto\"))"
   ]
  },
  {
   "cell_type": "code",
   "execution_count": null,
   "metadata": {},
   "outputs": [],
   "source": [
    "plt.imshow(decode.numpy())"
   ]
  },
  {
   "cell_type": "code",
   "execution_count": null,
   "metadata": {},
   "outputs": [],
   "source": []
  }
 ],
 "metadata": {
  "kernelspec": {
   "display_name": ".venv",
   "language": "python",
   "name": "python3"
  },
  "language_info": {
   "codemirror_mode": {
    "name": "ipython",
    "version": 3
   },
   "file_extension": ".py",
   "mimetype": "text/x-python",
   "name": "python",
   "nbconvert_exporter": "python",
   "pygments_lexer": "ipython3",
   "version": "3.11.7"
  }
 },
 "nbformat": 4,
 "nbformat_minor": 2
}
