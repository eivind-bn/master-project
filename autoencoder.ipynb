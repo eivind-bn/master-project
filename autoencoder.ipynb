{
 "cells": [
  {
   "cell_type": "code",
   "execution_count": null,
   "metadata": {},
   "outputs": [],
   "source": [
    "from typing import *\n",
    "from xai.genome import Genome\n",
    "from xai.policy import Policy\n",
    "from xai.asteroids import Asteroids\n",
    "from xai.bytes import GigaBytes\n",
    "from xai.asteroids import Asteroids\n",
    "import matplotlib.pyplot as plt"
   ]
  },
  {
   "cell_type": "code",
   "execution_count": null,
   "metadata": {},
   "outputs": [],
   "source": [
    "\n",
    "\n",
    "genome = Genome(\n",
    "    translate=True,\n",
    "    rotate=True,\n",
    "    volatility=1.0,\n",
    ")\n",
    "\n",
    "population = genome.populate(10, GigaBytes(10), verbose=True)\n"
   ]
  },
  {
   "cell_type": "code",
   "execution_count": null,
   "metadata": {},
   "outputs": [],
   "source": [
    "population.evolve(\n",
    "    generations=10,\n",
    "    survivors_cnt=1,\n",
    "    elites_cnt=0,\n",
    "    roulettes_cnt=90,\n",
    "    random_cnt=0,\n",
    "    checkpoints_directory=\"test\",\n",
    "    number_of_processes=2\n",
    ")"
   ]
  },
  {
   "cell_type": "code",
   "execution_count": null,
   "metadata": {},
   "outputs": [],
   "source": [
    "with population._genome_pool[0] as genome:\n",
    "    autoencoder = genome.autoencoder"
   ]
  },
  {
   "cell_type": "code",
   "execution_count": null,
   "metadata": {},
   "outputs": [],
   "source": [
    "env = Asteroids()\n",
    "observation, rewards = env.reset()\n",
    "\n",
    "decode = autoencoder.predict(observation.translated().rotated().tensor(True, \"auto\"))"
   ]
  },
  {
   "cell_type": "code",
   "execution_count": null,
   "metadata": {},
   "outputs": [],
   "source": [
    "plt.imshow(decode.numpy())"
   ]
  },
  {
   "cell_type": "code",
   "execution_count": null,
   "metadata": {},
   "outputs": [],
   "source": []
  }
 ],
 "metadata": {
  "kernelspec": {
   "display_name": ".venv",
   "language": "python",
   "name": "python3"
  },
  "language_info": {
   "codemirror_mode": {
    "name": "ipython",
    "version": 3
   },
   "file_extension": ".py",
   "mimetype": "text/x-python",
   "name": "python",
   "nbconvert_exporter": "python",
   "pygments_lexer": "ipython3",
   "version": "3.11.5"
  }
 },
 "nbformat": 4,
 "nbformat_minor": 2
}
