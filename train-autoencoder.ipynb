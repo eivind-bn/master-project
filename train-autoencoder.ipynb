{
 "cells": [
  {
   "cell_type": "code",
   "execution_count": null,
   "metadata": {
    "scrolled": true
   },
   "outputs": [],
   "source": [
    "from typing import *\n",
    "\n",
    "import matplotlib.pyplot as plt\n",
    "import torch\n",
    "import random\n",
    "import shap\n",
    "import numpy as np\n",
    "import gc\n",
    "\n",
    "from tqdm import tqdm\n",
    "from xai import *\n",
    "\n",
    "torch.cuda.empty_cache()\n",
    "gc.collect()"
   ]
  },
  {
   "cell_type": "code",
   "execution_count": null,
   "metadata": {},
   "outputs": [],
   "source": [
    "ae: AutoEncoder = AutoEncoder(\n",
    "        data_shape=(210,160,3),\n",
    "        latent_shape=(32,),\n",
    "        hidden_layers=[512,512],\n",
    "        output_activation=\"Sigmoid\",\n",
    "        device=device\n",
    "    )\n",
    "\n",
    "ae"
   ]
  },
  {
   "cell_type": "code",
   "execution_count": null,
   "metadata": {},
   "outputs": [],
   "source": [
    "params = torch.load(\"l32-params.pt\")\n",
    "params"
   ]
  },
  {
   "cell_type": "code",
   "execution_count": null,
   "metadata": {},
   "outputs": [],
   "source": [
    "with torch.no_grad():\n",
    "    for ae_param,param in zip(ae.parameters(), params[\"params\"]):\n",
    "        ae_param[:] = param"
   ]
  },
  {
   "cell_type": "code",
   "execution_count": null,
   "metadata": {},
   "outputs": [],
   "source": [
    "ae.save(\"asteroids-autoencoder-l32.pt\")"
   ]
  },
  {
   "cell_type": "code",
   "execution_count": null,
   "metadata": {},
   "outputs": [],
   "source": [
    "%%capture output\n",
    "\n",
    "device = \"cuda\"\n",
    "batch_size = 1024\n",
    "checkpoint_interval = 600\n",
    "lr = 0.001\n",
    "epochs = 5_000_000\n",
    "load: str|None = \"asteroids-autoencoder-l32\""
   ]
  },
  {
   "cell_type": "code",
   "execution_count": null,
   "metadata": {},
   "outputs": [],
   "source": [
    "dataset_v2 = torch.load(\"dataset-v2.pt\", map_location=\"cpu\")\n",
    "\n",
    "X_train = dataset_v2[:79216]\n",
    "X_val = dataset_v2[79216:]"
   ]
  },
  {
   "cell_type": "code",
   "execution_count": null,
   "metadata": {},
   "outputs": [],
   "source": [
    "if load is None:\n",
    "    ae: AutoEncoder = AutoEncoder(\n",
    "        data_shape=(210,160,3),\n",
    "        latent_shape=(32,),\n",
    "        hidden_layers=[512,512],\n",
    "        output_activation=\"Sigmoid\",\n",
    "        device=device\n",
    "    )\n",
    "\n",
    "else:\n",
    "    ae: AutoEncoder = AutoEncoder.load(load)\n",
    "\n",
    "ae"
   ]
  },
  {
   "cell_type": "code",
   "execution_count": null,
   "metadata": {},
   "outputs": [],
   "source": [
    "def loss(predict, target):\n",
    "    N = target.nelement()\n",
    "    n = target.count_nonzero()\n",
    "    square_error = (predict - target)**2\n",
    "    \n",
    "    return torch.where(target == 0, (n/N)*square_error, ((N-n)/N)*square_error).mean()\n",
    "\n",
    "\n",
    "ae.adam().fit(\n",
    "    X_train=X_train,\n",
    "    Y_train=X_train,\n",
    "    batch_size=batch_size,\n",
    "    epochs=epochs,\n",
    "    loss_criterion=LossModule(loss),\n",
    "    X_val=X_val,\n",
    "    Y_val=X_val,\n",
    "    early_stop_count=400,\n",
    "    info=\"Asteroids autoencoder-train\",\n",
    "    verbose=True\n",
    ")\n"
   ]
  },
  {
   "cell_type": "code",
   "execution_count": null,
   "metadata": {},
   "outputs": [],
   "source": [
    "ae.train_history.figure(\"Asteroids autoencoder\")\n",
    "plt.gcf().savefig(\"asteroids-autoencoder-l32-train.png\")"
   ]
  },
  {
   "cell_type": "code",
   "execution_count": null,
   "metadata": {},
   "outputs": [],
   "source": [
    "#idx = random.randrange(0, len(X_val))\n",
    "\n",
    "good_ae = AutoEncoder.load(\"asteroids-autoencoder-l32\")\n",
    "\n",
    "bad_ae = AutoEncoder.load(\"asteroids-autoencoder-l32-bad\")\n",
    "\n",
    "X = X_val[idx].cuda()\n",
    "with torch.no_grad():\n",
    "    X = X.numpy(force=True)\n",
    "    good_y = good_ae(X)().squeeze(0).numpy(force=True)\n",
    "    bad_y = bad_ae(X)().squeeze(0).numpy(force=True)\n",
    "\n",
    "plt.figure(dpi=250)\n",
    "plt.imshow(np.hstack([X, good_y, bad_y]))\n",
    "plt.imsave(\"original_image.png\", X.repeat(4,0).repeat(4,1))\n",
    "plt.imsave(\"good-reconstruction.png\", good_y.repeat(4,0).repeat(4,1))\n",
    "plt.imsave(\"bad-reconstruction.png\", bad_y.repeat(4,0).repeat(4,1))"
   ]
  },
  {
   "cell_type": "code",
   "execution_count": null,
   "metadata": {},
   "outputs": [],
   "source": []
  },
  {
   "cell_type": "code",
   "execution_count": null,
   "metadata": {},
   "outputs": [],
   "source": []
  }
 ],
 "metadata": {
  "kernelspec": {
   "display_name": "Python 3 (ipykernel)",
   "language": "python",
   "name": "python3"
  },
  "language_info": {
   "codemirror_mode": {
    "name": "ipython",
    "version": 3
   },
   "file_extension": ".py",
   "mimetype": "text/x-python",
   "name": "python",
   "nbconvert_exporter": "python",
   "pygments_lexer": "ipython3",
   "version": "3.11.5"
  }
 },
 "nbformat": 4,
 "nbformat_minor": 4
}
